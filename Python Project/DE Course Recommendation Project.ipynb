{
 "cells": [
  {
   "cell_type": "markdown",
   "id": "0a87960a",
   "metadata": {},
   "source": [
    "\n",
    "# **Assignment**\n",
    "\n",
    "Name:-Ritik Jaiswal\n",
    "\n",
    "Branch:-Data Science\n",
    "\n",
    "Roll Number:-DS7A2215"
   ]
  },
  {
   "cell_type": "code",
   "execution_count": 6,
   "id": "4975d397",
   "metadata": {},
   "outputs": [],
   "source": [
    "import mysql.connector\n",
    "from mysql.connector import Error\n",
    "from sqlalchemy import create_engine\n",
    "import pandas as pd"
   ]
  },
  {
   "cell_type": "code",
   "execution_count": 7,
   "id": "12b7bbb8",
   "metadata": {},
   "outputs": [],
   "source": [
    "# Function to extract table to a pandas DataFrame\n",
    "def extract_table_to_pandas(tablename, db_engine):\n",
    "    query = \"SELECT * FROM {}\".format(tablename)\n",
    "    return pd.read_sql(query, db_engine)\n",
    "\n",
    "db_engine = create_engine('mysql+mysqlconnector://{0}:{1}@{2}/{3}'.\n",
    "                                                   format('root', '', \n",
    "                                                          'localhost', 'elearning'))"
   ]
  },
  {
   "cell_type": "code",
   "execution_count": 8,
   "id": "81c4660e",
   "metadata": {},
   "outputs": [],
   "source": [
    "def print_user_comparison(user1, user2, user3):\n",
    "    print(\"Course id overlap between users:\")\n",
    "    print(\"================================\")\n",
    "    print(\"User 1 and User 2 overlap: {}\".format(\n",
    "    set(user1.course_id) & set(user2.course_id)\n",
    "    ))\n",
    "    print(\"User 1 and User 3 overlap: {}\".format(\n",
    "    set(user1.course_id) & set(user3.course_id)\n",
    "    ))\n",
    "    print(\"User 2 and User 3 overlap: {}\".format(\n",
    "    set(user2.course_id) & set(user3.course_id)\n",
    "    ))"
   ]
  },
  {
   "cell_type": "code",
   "execution_count": 9,
   "id": "10911799",
   "metadata": {},
   "outputs": [
    {
     "name": "stdout",
     "output_type": "stream",
     "text": [
      "Course id overlap between users:\n",
      "================================\n",
      "User 1 and User 2 overlap: {32, 96, 36, 6, 7, 44, 95}\n",
      "User 1 and User 3 overlap: set()\n",
      "User 2 and User 3 overlap: set()\n"
     ]
    }
   ],
   "source": [
    "# Get user with id 4387\n",
    "user1 = pd.read_sql(\"SELECT * FROM rating where user_id=4387\", db_engine)\n",
    "\n",
    "# Get user with id 18163\n",
    "user2 = pd.read_sql(\"SELECT * FROM rating where user_id=18163\", db_engine)\n",
    "\n",
    "# Get user with id 8770\n",
    "user3 = pd.read_sql(\"SELECT * FROM rating where user_id=8770\", db_engine)\n",
    "\n",
    "# Use the helper function to compare the 3 users\n",
    "print_user_comparison(user1, user2, user3)"
   ]
  },
  {
   "cell_type": "code",
   "execution_count": 10,
   "id": "25063822",
   "metadata": {},
   "outputs": [],
   "source": [
    "def extract_rating_data(db_engine):\n",
    "    return pd.read_sql(\"SELECT * FROM rating\", db_engine)\n",
    "\n",
    "def extract_course_data(db_engine):\n",
    "    return pd.read_sql(\"SELECT * FROM courses\", db_engine)"
   ]
  },
  {
   "cell_type": "code",
   "execution_count": 11,
   "id": "f125e133",
   "metadata": {},
   "outputs": [],
   "source": [
    "ratings = extract_rating_data(db_engine)\n",
    "\n",
    "course_data = extract_course_data(db_engine)"
   ]
  },
  {
   "cell_type": "code",
   "execution_count": 12,
   "id": "507c5484",
   "metadata": {},
   "outputs": [
    {
     "data": {
      "text/html": [
       "<div>\n",
       "<style scoped>\n",
       "    .dataframe tbody tr th:only-of-type {\n",
       "        vertical-align: middle;\n",
       "    }\n",
       "\n",
       "    .dataframe tbody tr th {\n",
       "        vertical-align: top;\n",
       "    }\n",
       "\n",
       "    .dataframe thead th {\n",
       "        text-align: right;\n",
       "    }\n",
       "</style>\n",
       "<table border=\"1\" class=\"dataframe\">\n",
       "  <thead>\n",
       "    <tr style=\"text-align: right;\">\n",
       "      <th></th>\n",
       "      <th>user_id</th>\n",
       "      <th>course_id</th>\n",
       "      <th>rating</th>\n",
       "    </tr>\n",
       "  </thead>\n",
       "  <tbody>\n",
       "    <tr>\n",
       "      <th>0</th>\n",
       "      <td>1</td>\n",
       "      <td>6</td>\n",
       "      <td>4</td>\n",
       "    </tr>\n",
       "    <tr>\n",
       "      <th>1</th>\n",
       "      <td>1</td>\n",
       "      <td>36</td>\n",
       "      <td>5</td>\n",
       "    </tr>\n",
       "    <tr>\n",
       "      <th>2</th>\n",
       "      <td>1</td>\n",
       "      <td>37</td>\n",
       "      <td>5</td>\n",
       "    </tr>\n",
       "    <tr>\n",
       "      <th>3</th>\n",
       "      <td>1</td>\n",
       "      <td>45</td>\n",
       "      <td>5</td>\n",
       "    </tr>\n",
       "    <tr>\n",
       "      <th>4</th>\n",
       "      <td>1</td>\n",
       "      <td>50</td>\n",
       "      <td>5</td>\n",
       "    </tr>\n",
       "  </tbody>\n",
       "</table>\n",
       "</div>"
      ],
      "text/plain": [
       "   user_id  course_id  rating\n",
       "0        1          6       4\n",
       "1        1         36       5\n",
       "2        1         37       5\n",
       "3        1         45       5\n",
       "4        1         50       5"
      ]
     },
     "execution_count": 12,
     "metadata": {},
     "output_type": "execute_result"
    }
   ],
   "source": [
    "ratings.head()"
   ]
  },
  {
   "cell_type": "code",
   "execution_count": 13,
   "id": "94ef5087",
   "metadata": {},
   "outputs": [
    {
     "data": {
      "text/html": [
       "<div>\n",
       "<style scoped>\n",
       "    .dataframe tbody tr th:only-of-type {\n",
       "        vertical-align: middle;\n",
       "    }\n",
       "\n",
       "    .dataframe tbody tr th {\n",
       "        vertical-align: top;\n",
       "    }\n",
       "\n",
       "    .dataframe thead th {\n",
       "        text-align: right;\n",
       "    }\n",
       "</style>\n",
       "<table border=\"1\" class=\"dataframe\">\n",
       "  <thead>\n",
       "    <tr style=\"text-align: right;\">\n",
       "      <th></th>\n",
       "      <th>course_id</th>\n",
       "      <th>title</th>\n",
       "      <th>description</th>\n",
       "      <th>programming_language</th>\n",
       "    </tr>\n",
       "  </thead>\n",
       "  <tbody>\n",
       "    <tr>\n",
       "      <th>0</th>\n",
       "      <td>1</td>\n",
       "      <td>Machine Learning with Apache Spark</td>\n",
       "      <td>Spark is a powerful, general purpose tool for ...</td>\n",
       "      <td>python</td>\n",
       "    </tr>\n",
       "    <tr>\n",
       "      <th>1</th>\n",
       "      <td>2</td>\n",
       "      <td>Financial Analytics in Spreadsheets</td>\n",
       "      <td>Monitoring the evolution of traded assets is k...</td>\n",
       "      <td>spreadsheets</td>\n",
       "    </tr>\n",
       "    <tr>\n",
       "      <th>2</th>\n",
       "      <td>3</td>\n",
       "      <td>Intermediate R</td>\n",
       "      <td>The intermediate R course is the logical next ...</td>\n",
       "      <td>r</td>\n",
       "    </tr>\n",
       "    <tr>\n",
       "      <th>3</th>\n",
       "      <td>4</td>\n",
       "      <td>Data Visualization with ggplot2 (Part 2)</td>\n",
       "      <td>This ggplot2 tutorial builds on your knowledge...</td>\n",
       "      <td>r</td>\n",
       "    </tr>\n",
       "    <tr>\n",
       "      <th>4</th>\n",
       "      <td>5</td>\n",
       "      <td>Fraud Detection in R</td>\n",
       "      <td>The Association of Certified Fraud Examiners e...</td>\n",
       "      <td>r</td>\n",
       "    </tr>\n",
       "  </tbody>\n",
       "</table>\n",
       "</div>"
      ],
      "text/plain": [
       "   course_id                                     title  \\\n",
       "0          1        Machine Learning with Apache Spark   \n",
       "1          2       Financial Analytics in Spreadsheets   \n",
       "2          3                            Intermediate R   \n",
       "3          4  Data Visualization with ggplot2 (Part 2)   \n",
       "4          5                      Fraud Detection in R   \n",
       "\n",
       "                                         description programming_language  \n",
       "0  Spark is a powerful, general purpose tool for ...               python  \n",
       "1  Monitoring the evolution of traded assets is k...         spreadsheets  \n",
       "2  The intermediate R course is the logical next ...                    r  \n",
       "3  This ggplot2 tutorial builds on your knowledge...                    r  \n",
       "4  The Association of Certified Fraud Examiners e...                    r  "
      ]
     },
     "execution_count": 13,
     "metadata": {},
     "output_type": "execute_result"
    }
   ],
   "source": [
    "course_data.head()"
   ]
  },
  {
   "cell_type": "code",
   "execution_count": 14,
   "id": "4f49069f",
   "metadata": {},
   "outputs": [
    {
     "data": {
      "text/plain": [
       "38174"
      ]
     },
     "execution_count": 14,
     "metadata": {},
     "output_type": "execute_result"
    }
   ],
   "source": [
    "ratings.user_id.nunique()"
   ]
  },
  {
   "cell_type": "code",
   "execution_count": 15,
   "id": "5b244911",
   "metadata": {},
   "outputs": [
    {
     "name": "stdout",
     "output_type": "stream",
     "text": [
      "course_id               0\n",
      "title                   0\n",
      "description             0\n",
      "programming_language    3\n",
      "dtype: int64\n"
     ]
    }
   ],
   "source": [
    "# Print out the number of missing values per column\n",
    "print(course_data.isnull().sum())"
   ]
  },
  {
   "cell_type": "code",
   "execution_count": 16,
   "id": "de3e117a",
   "metadata": {},
   "outputs": [
    {
     "name": "stdout",
     "output_type": "stream",
     "text": [
      "course_id               0\n",
      "title                   0\n",
      "description             0\n",
      "programming_language    0\n",
      "dtype: int64\n"
     ]
    }
   ],
   "source": [
    "# The transformation should fill in the missing values\n",
    "def transform_fill_programming_language(course_data):\n",
    "    imputed = course_data.fillna({\"programming_language\": \"R\"})\n",
    "    return imputed\n",
    "\n",
    "transformed = transform_fill_programming_language(course_data)\n",
    "\n",
    "# Print out the number of missing values per column of transformed\n",
    "print(transformed.isnull().sum())"
   ]
  },
  {
   "cell_type": "code",
   "execution_count": 17,
   "id": "cd188121",
   "metadata": {},
   "outputs": [],
   "source": [
    "# transformation function\n",
    "def transform_avg_rating(rating_data):\n",
    "    # Group by course_id and extract average rating per course\n",
    "    avg_rating = round(rating_data.groupby('course_id').rating.mean(),2)\n",
    "    # Return sorted average ratings per course\n",
    "    sort_rating = avg_rating.sort_values(ascending=False).reset_index()\n",
    "    return sort_rating"
   ]
  },
  {
   "cell_type": "code",
   "execution_count": 18,
   "id": "0ffa37cd",
   "metadata": {},
   "outputs": [
    {
     "name": "stdout",
     "output_type": "stream",
     "text": [
      "    course_id  rating\n",
      "0          23    4.80\n",
      "1          46    4.80\n",
      "2          96    4.69\n",
      "3          56    4.66\n",
      "4          26    4.65\n",
      "..        ...     ...\n",
      "94         54    4.24\n",
      "95         92    4.22\n",
      "96         29    4.21\n",
      "97         17    4.15\n",
      "98         42    4.11\n",
      "\n",
      "[99 rows x 2 columns]\n"
     ]
    }
   ],
   "source": [
    "# Use transform_avg_rating on the extracted data and print results\n",
    "avg_course_ratings = transform_avg_rating(ratings)\n",
    "print(avg_course_ratings) "
   ]
  },
  {
   "cell_type": "code",
   "execution_count": 19,
   "id": "1f2daf7c",
   "metadata": {},
   "outputs": [
    {
     "data": {
      "text/plain": [
       "['python', 'spreadsheets', 'r', 'sql', 'shell', None]"
      ]
     },
     "execution_count": 19,
     "metadata": {},
     "output_type": "execute_result"
    }
   ],
   "source": [
    "#findng thee unique values\n",
    "l=list(course_data.programming_language.unique())\n",
    "l"
   ]
  },
  {
   "cell_type": "code",
   "execution_count": 20,
   "id": "2d491512",
   "metadata": {},
   "outputs": [],
   "source": [
    "#merging both twotable course or Rating based on Course_id\n",
    "df = pd.merge(avg_course_ratings, course_data, on=\"course_id\")"
   ]
  },
  {
   "cell_type": "code",
   "execution_count": 21,
   "id": "8a58a52a",
   "metadata": {},
   "outputs": [
    {
     "data": {
      "text/html": [
       "<div>\n",
       "<style scoped>\n",
       "    .dataframe tbody tr th:only-of-type {\n",
       "        vertical-align: middle;\n",
       "    }\n",
       "\n",
       "    .dataframe tbody tr th {\n",
       "        vertical-align: top;\n",
       "    }\n",
       "\n",
       "    .dataframe thead th {\n",
       "        text-align: right;\n",
       "    }\n",
       "</style>\n",
       "<table border=\"1\" class=\"dataframe\">\n",
       "  <thead>\n",
       "    <tr style=\"text-align: right;\">\n",
       "      <th></th>\n",
       "      <th>course_id</th>\n",
       "      <th>rating</th>\n",
       "      <th>title</th>\n",
       "      <th>description</th>\n",
       "      <th>programming_language</th>\n",
       "    </tr>\n",
       "  </thead>\n",
       "  <tbody>\n",
       "    <tr>\n",
       "      <th>0</th>\n",
       "      <td>23</td>\n",
       "      <td>4.80</td>\n",
       "      <td>GARCH Models in R</td>\n",
       "      <td>Are you curious about the rhythm of the financ...</td>\n",
       "      <td>r</td>\n",
       "    </tr>\n",
       "    <tr>\n",
       "      <th>1</th>\n",
       "      <td>46</td>\n",
       "      <td>4.80</td>\n",
       "      <td>Designing and Analyzing Clinical Trials in R</td>\n",
       "      <td>Clinical trials are scientific experiments tha...</td>\n",
       "      <td>r</td>\n",
       "    </tr>\n",
       "    <tr>\n",
       "      <th>2</th>\n",
       "      <td>96</td>\n",
       "      <td>4.69</td>\n",
       "      <td>Intro to SQL for Data Science</td>\n",
       "      <td>The role of a data scientist is to turn raw da...</td>\n",
       "      <td>sql</td>\n",
       "    </tr>\n",
       "    <tr>\n",
       "      <th>3</th>\n",
       "      <td>56</td>\n",
       "      <td>4.66</td>\n",
       "      <td>Extreme Gradient Boosting with XGBoost</td>\n",
       "      <td>Do you know the basics of supervised learning ...</td>\n",
       "      <td>python</td>\n",
       "    </tr>\n",
       "    <tr>\n",
       "      <th>4</th>\n",
       "      <td>26</td>\n",
       "      <td>4.65</td>\n",
       "      <td>Introduction to Seaborn</td>\n",
       "      <td>Seaborn is a powerful Python library that make...</td>\n",
       "      <td>python</td>\n",
       "    </tr>\n",
       "    <tr>\n",
       "      <th>5</th>\n",
       "      <td>24</td>\n",
       "      <td>4.65</td>\n",
       "      <td>Nonlinear Modeling in R with GAMs</td>\n",
       "      <td>Generalized Additive Models are a powerful too...</td>\n",
       "      <td>r</td>\n",
       "    </tr>\n",
       "    <tr>\n",
       "      <th>6</th>\n",
       "      <td>87</td>\n",
       "      <td>4.63</td>\n",
       "      <td>Introduction to Spark in R using sparklyr</td>\n",
       "      <td>R is mostly optimized to help you write data a...</td>\n",
       "      <td>r</td>\n",
       "    </tr>\n",
       "    <tr>\n",
       "      <th>7</th>\n",
       "      <td>61</td>\n",
       "      <td>4.63</td>\n",
       "      <td>Manipulating Time Series Data in R: Case Studies</td>\n",
       "      <td>This follow-up course on manipulating time ser...</td>\n",
       "      <td>r</td>\n",
       "    </tr>\n",
       "    <tr>\n",
       "      <th>8</th>\n",
       "      <td>85</td>\n",
       "      <td>4.63</td>\n",
       "      <td>Bond Valuation and Analysis in R</td>\n",
       "      <td>&lt;p&gt;After this course on quantitative finance w...</td>\n",
       "      <td>r</td>\n",
       "    </tr>\n",
       "    <tr>\n",
       "      <th>9</th>\n",
       "      <td>81</td>\n",
       "      <td>4.62</td>\n",
       "      <td>Exploratory Data Analysis in R: Case Study</td>\n",
       "      <td>Once you've started learning tools for data ma...</td>\n",
       "      <td>r</td>\n",
       "    </tr>\n",
       "  </tbody>\n",
       "</table>\n",
       "</div>"
      ],
      "text/plain": [
       "   course_id  rating                                             title  \\\n",
       "0         23    4.80                                 GARCH Models in R   \n",
       "1         46    4.80      Designing and Analyzing Clinical Trials in R   \n",
       "2         96    4.69                     Intro to SQL for Data Science   \n",
       "3         56    4.66            Extreme Gradient Boosting with XGBoost   \n",
       "4         26    4.65                           Introduction to Seaborn   \n",
       "5         24    4.65                 Nonlinear Modeling in R with GAMs   \n",
       "6         87    4.63         Introduction to Spark in R using sparklyr   \n",
       "7         61    4.63  Manipulating Time Series Data in R: Case Studies   \n",
       "8         85    4.63                  Bond Valuation and Analysis in R   \n",
       "9         81    4.62        Exploratory Data Analysis in R: Case Study   \n",
       "\n",
       "                                         description programming_language  \n",
       "0  Are you curious about the rhythm of the financ...                    r  \n",
       "1  Clinical trials are scientific experiments tha...                    r  \n",
       "2  The role of a data scientist is to turn raw da...                  sql  \n",
       "3  Do you know the basics of supervised learning ...               python  \n",
       "4  Seaborn is a powerful Python library that make...               python  \n",
       "5  Generalized Additive Models are a powerful too...                    r  \n",
       "6  R is mostly optimized to help you write data a...                    r  \n",
       "7  This follow-up course on manipulating time ser...                    r  \n",
       "8  <p>After this course on quantitative finance w...                    r  \n",
       "9  Once you've started learning tools for data ma...                    r  "
      ]
     },
     "execution_count": 21,
     "metadata": {},
     "output_type": "execute_result"
    }
   ],
   "source": [
    "#df=df.sort_values(by=['course_id'])\n",
    "df.head(10)"
   ]
  },
  {
   "cell_type": "code",
   "execution_count": 22,
   "id": "88d2f3c5",
   "metadata": {},
   "outputs": [
    {
     "data": {
      "text/plain": [
       "'Intro to SQL for Data Science'"
      ]
     },
     "execution_count": 22,
     "metadata": {},
     "output_type": "execute_result"
    }
   ],
   "source": [
    "df.iloc[2,2]"
   ]
  },
  {
   "cell_type": "code",
   "execution_count": 24,
   "id": "d9d7d893",
   "metadata": {},
   "outputs": [],
   "source": [
    "#convert spredsheet first word to capital\n",
    "df['programming_language']=df['programming_language'].apply(lambda x: \"Spreadsheet\" if x==\"spreadsheets\" else x)"
   ]
  },
  {
   "cell_type": "code",
   "execution_count": 25,
   "id": "f2132811",
   "metadata": {},
   "outputs": [
    {
     "data": {
      "text/html": [
       "<div>\n",
       "<style scoped>\n",
       "    .dataframe tbody tr th:only-of-type {\n",
       "        vertical-align: middle;\n",
       "    }\n",
       "\n",
       "    .dataframe tbody tr th {\n",
       "        vertical-align: top;\n",
       "    }\n",
       "\n",
       "    .dataframe thead th {\n",
       "        text-align: right;\n",
       "    }\n",
       "</style>\n",
       "<table border=\"1\" class=\"dataframe\">\n",
       "  <thead>\n",
       "    <tr style=\"text-align: right;\">\n",
       "      <th></th>\n",
       "      <th>course_id</th>\n",
       "      <th>rating</th>\n",
       "      <th>title</th>\n",
       "      <th>description</th>\n",
       "      <th>programming_language</th>\n",
       "    </tr>\n",
       "  </thead>\n",
       "  <tbody>\n",
       "    <tr>\n",
       "      <th>0</th>\n",
       "      <td>23</td>\n",
       "      <td>4.80</td>\n",
       "      <td>GARCH Models in R</td>\n",
       "      <td>Are you curious about the rhythm of the financ...</td>\n",
       "      <td>r</td>\n",
       "    </tr>\n",
       "    <tr>\n",
       "      <th>1</th>\n",
       "      <td>46</td>\n",
       "      <td>4.80</td>\n",
       "      <td>Designing and Analyzing Clinical Trials in R</td>\n",
       "      <td>Clinical trials are scientific experiments tha...</td>\n",
       "      <td>r</td>\n",
       "    </tr>\n",
       "    <tr>\n",
       "      <th>2</th>\n",
       "      <td>96</td>\n",
       "      <td>4.69</td>\n",
       "      <td>Intro to SQL for Data Science</td>\n",
       "      <td>The role of a data scientist is to turn raw da...</td>\n",
       "      <td>sql</td>\n",
       "    </tr>\n",
       "    <tr>\n",
       "      <th>3</th>\n",
       "      <td>56</td>\n",
       "      <td>4.66</td>\n",
       "      <td>Extreme Gradient Boosting with XGBoost</td>\n",
       "      <td>Do you know the basics of supervised learning ...</td>\n",
       "      <td>python</td>\n",
       "    </tr>\n",
       "    <tr>\n",
       "      <th>4</th>\n",
       "      <td>26</td>\n",
       "      <td>4.65</td>\n",
       "      <td>Introduction to Seaborn</td>\n",
       "      <td>Seaborn is a powerful Python library that make...</td>\n",
       "      <td>python</td>\n",
       "    </tr>\n",
       "    <tr>\n",
       "      <th>...</th>\n",
       "      <td>...</td>\n",
       "      <td>...</td>\n",
       "      <td>...</td>\n",
       "      <td>...</td>\n",
       "      <td>...</td>\n",
       "    </tr>\n",
       "    <tr>\n",
       "      <th>94</th>\n",
       "      <td>54</td>\n",
       "      <td>4.24</td>\n",
       "      <td>Improving Query Performance in SQL Server</td>\n",
       "      <td>A mission critical assignment is depending on ...</td>\n",
       "      <td>sql</td>\n",
       "    </tr>\n",
       "    <tr>\n",
       "      <th>95</th>\n",
       "      <td>92</td>\n",
       "      <td>4.22</td>\n",
       "      <td>Foundations of Predictive Analytics in Python ...</td>\n",
       "      <td>Building good models only succeeds if you have...</td>\n",
       "      <td>python</td>\n",
       "    </tr>\n",
       "    <tr>\n",
       "      <th>96</th>\n",
       "      <td>29</td>\n",
       "      <td>4.21</td>\n",
       "      <td>Spatial Statistics in R</td>\n",
       "      <td>Everything happens somewhere, and increasingly...</td>\n",
       "      <td>r</td>\n",
       "    </tr>\n",
       "    <tr>\n",
       "      <th>97</th>\n",
       "      <td>17</td>\n",
       "      <td>4.15</td>\n",
       "      <td>Analyzing US Census Data in Python</td>\n",
       "      <td>Data scientists in diverse fields, from market...</td>\n",
       "      <td>python</td>\n",
       "    </tr>\n",
       "    <tr>\n",
       "      <th>98</th>\n",
       "      <td>42</td>\n",
       "      <td>4.11</td>\n",
       "      <td>Conda Essentials</td>\n",
       "      <td>Software is constantly evolving, so data scien...</td>\n",
       "      <td>shell</td>\n",
       "    </tr>\n",
       "  </tbody>\n",
       "</table>\n",
       "<p>99 rows × 5 columns</p>\n",
       "</div>"
      ],
      "text/plain": [
       "    course_id  rating                                              title  \\\n",
       "0          23    4.80                                  GARCH Models in R   \n",
       "1          46    4.80       Designing and Analyzing Clinical Trials in R   \n",
       "2          96    4.69                      Intro to SQL for Data Science   \n",
       "3          56    4.66             Extreme Gradient Boosting with XGBoost   \n",
       "4          26    4.65                            Introduction to Seaborn   \n",
       "..        ...     ...                                                ...   \n",
       "94         54    4.24          Improving Query Performance in SQL Server   \n",
       "95         92    4.22  Foundations of Predictive Analytics in Python ...   \n",
       "96         29    4.21                            Spatial Statistics in R   \n",
       "97         17    4.15                 Analyzing US Census Data in Python   \n",
       "98         42    4.11                                   Conda Essentials   \n",
       "\n",
       "                                          description programming_language  \n",
       "0   Are you curious about the rhythm of the financ...                    r  \n",
       "1   Clinical trials are scientific experiments tha...                    r  \n",
       "2   The role of a data scientist is to turn raw da...                  sql  \n",
       "3   Do you know the basics of supervised learning ...               python  \n",
       "4   Seaborn is a powerful Python library that make...               python  \n",
       "..                                                ...                  ...  \n",
       "94  A mission critical assignment is depending on ...                  sql  \n",
       "95  Building good models only succeeds if you have...               python  \n",
       "96  Everything happens somewhere, and increasingly...                    r  \n",
       "97  Data scientists in diverse fields, from market...               python  \n",
       "98  Software is constantly evolving, so data scien...                shell  \n",
       "\n",
       "[99 rows x 5 columns]"
      ]
     },
     "execution_count": 25,
     "metadata": {},
     "output_type": "execute_result"
    }
   ],
   "source": [
    "df.head(99)"
   ]
  },
  {
   "cell_type": "code",
   "execution_count": 26,
   "id": "d802bbea",
   "metadata": {},
   "outputs": [
    {
     "data": {
      "text/plain": [
       "13"
      ]
     },
     "execution_count": 26,
     "metadata": {},
     "output_type": "execute_result"
    }
   ],
   "source": [
    "df.course_id[46]"
   ]
  },
  {
   "cell_type": "code",
   "execution_count": 27,
   "id": "6c7d83f2",
   "metadata": {},
   "outputs": [
    {
     "data": {
      "text/plain": [
       "course_id               0.000000\n",
       "rating                  0.000000\n",
       "title                   0.000000\n",
       "description             0.000000\n",
       "programming_language    0.020202\n",
       "dtype: float64"
      ]
     },
     "execution_count": 27,
     "metadata": {},
     "output_type": "execute_result"
    }
   ],
   "source": [
    "df.isna().mean()"
   ]
  },
  {
   "cell_type": "code",
   "execution_count": 28,
   "id": "8a415c63",
   "metadata": {},
   "outputs": [],
   "source": [
    "#Making Dictonary of course_id and Programing language and adding tittle on programming language\n",
    "def extract_course_rating(df):\n",
    "    dict={ df.iloc[i,0]:(f'{df.iloc[i,4]} ({df.iloc[i,2]})') for i in range(0,99) }\n",
    "    return(dict)"
   ]
  },
  {
   "cell_type": "code",
   "execution_count": 29,
   "id": "f9a0258e",
   "metadata": {},
   "outputs": [],
   "source": [
    "#storeing dictonory into final variable\n",
    "final=extract_course_rating(df)"
   ]
  },
  {
   "cell_type": "code",
   "execution_count": 30,
   "id": "6c2e24c0",
   "metadata": {},
   "outputs": [
    {
     "data": {
      "text/plain": [
       "{23: 'r (GARCH Models in R)',\n",
       " 46: 'r (Designing and Analyzing Clinical Trials in R)',\n",
       " 96: 'sql (Intro to SQL for Data Science)',\n",
       " 56: 'python (Extreme Gradient Boosting with XGBoost)',\n",
       " 26: 'python (Introduction to Seaborn)',\n",
       " 24: 'r (Nonlinear Modeling in R with GAMs)',\n",
       " 87: 'r (Introduction to Spark in R using sparklyr)',\n",
       " 61: 'r (Manipulating Time Series Data in R: Case Studies)',\n",
       " 85: 'r (Bond Valuation and Analysis in R)',\n",
       " 81: 'r (Exploratory Data Analysis in R: Case Study)',\n",
       " 31: 'r (Introduction to R for Finance)',\n",
       " 86: 'python (Building Recommendation Engines with PySpark)',\n",
       " 7: 'python (Introduction to Python)',\n",
       " 76: 'r (Interactive Maps with leaflet in R)',\n",
       " 35: 'r (Interactive Data Visualization with rbokeh)',\n",
       " 44: 'python (Introduction to Data Science in Python)',\n",
       " 14: 'python (Intro to Portfolio Risk Management in Python)',\n",
       " 32: 'python (Intermediate Python for Data Science)',\n",
       " 28: 'python (Python for Spreadsheet Users)',\n",
       " 71: 'r (Differential Expression Analysis in R with limma)',\n",
       " 37: 'r (Writing Efficient R Code)',\n",
       " 3: 'r (Intermediate R)',\n",
       " 36: 'python (Importing Data in Python (Part 1))',\n",
       " 25: 'r (Machine Learning with Tree-Based Models in R)',\n",
       " 95: 'python (Python Data Science Toolbox (Part 2))',\n",
       " 83: 'r (Course Creation at DataCamp)',\n",
       " 33: 'python (Introduction to Matplotlib)',\n",
       " 38: 'r (Visualizing Big Data with Trelliscope)',\n",
       " 1: 'python (Machine Learning with Apache Spark)',\n",
       " 66: 'python (Visualizing Time Series Data in Python)',\n",
       " 16: 'r (Intermediate Functional Programming with purrr)',\n",
       " 59: 'python (Visualizing Geospatial Data in Python)',\n",
       " 74: 'r (Valuation of Life Insurance Products in R)',\n",
       " 64: 'r (Importing Data in R (Part 1))',\n",
       " 41: 'r (Defensive R Programming)',\n",
       " 94: 'r (Sentiment Analysis in R: The Tidy Way)',\n",
       " 68: 'sql (Analyzing Business Data in SQL)',\n",
       " 63: 'r (Human Resources Analytics in R: Predicting Employee Churn)',\n",
       " 60: 'r (Data Science for Managers)',\n",
       " 75: 'python (Data Visualization with Seaborn)',\n",
       " 91: 'r (Importing Data in R (Part 2))',\n",
       " 6: 'sql (Joining Data in SQL)',\n",
       " 90: 'python (pandas Foundations)',\n",
       " 11: 'r (Supervised Learning in R: Classification)',\n",
       " 49: 'r (Marketing Analytics in R: Statistical Modeling)',\n",
       " 43: 'python (Writing Efficient Python Code)',\n",
       " 13: 'r (Equity Valuation in R)',\n",
       " 51: 'r (Data Manipulation in R with dplyr)',\n",
       " 52: 'python (Feature Engineering for NLP in Python)',\n",
       " 34: 'python (Big Data Fundamentals via PySpark)',\n",
       " 9: 'r (Credit Risk Modeling in R)',\n",
       " 84: 'r (Supervised Learning in R: Regression)',\n",
       " 50: 'r (Machine Learning Toolbox)',\n",
       " 22: 'r (Importing & Cleaning Data in R: Case Studies)',\n",
       " 67: 'python (Forecasting Using ARIMA Models in Python)',\n",
       " 88: 'python (Python for R Users)',\n",
       " 40: 'python (Machine Learning for Finance in Python)',\n",
       " 65: 'r (Foundations of Functional Programming with purrr)',\n",
       " 45: 'r (Multiple and Logistic Regression)',\n",
       " 55: 'r (Inference for Linear Regression)',\n",
       " 27: 'r (Bayesian Regression Modeling with rstanarm)',\n",
       " 70: 'sql (Introduction to Relational Databases in SQL)',\n",
       " 78: 'python (Network Analysis in Python (Part 2))',\n",
       " 21: 'python (Supply Chain Analytics in Python)',\n",
       " 58: 'r (Introduction to Text Analysis in R)',\n",
       " 48: 'r (Data Manipulation in R with data.table)',\n",
       " 53: 'r (Interactive Data Visualization with plotly in R)',\n",
       " 30: 'python (Fraud Detection in Python)',\n",
       " 57: 'None (Statistical Modeling in R (Part 2))',\n",
       " 93: 'python (Python for MATLAB Users)',\n",
       " 39: 'python (Parallel Computing with Dask)',\n",
       " 82: 'shell (Conda for Building & Distributing Packages)',\n",
       " 79: 'r (Developing R Packages)',\n",
       " 99: 'r (Predictive Analytics using Networked Data in R)',\n",
       " 97: 'python (Foundations of Predictive Analytics in Python (Part 1))',\n",
       " 20: 'shell (Introduction to Git for Data Science)',\n",
       " 18: 'python (Network Analysis in Python (Part 1))',\n",
       " 19: 'python (Introduction to Databases in Python)',\n",
       " 47: 'r (Foundations of Inference)',\n",
       " 89: 'r (RNA-Seq Differential Expression Analysis)',\n",
       " 72: 'python (Natural Language Processing Fundamentals in Python)',\n",
       " 10: 'r (Experimental Design in R)',\n",
       " 12: 'r (Visualizing Time Series Data in R)',\n",
       " 15: 'sql (Data-Driven Decision Making in SQL)',\n",
       " 4: 'r (Data Visualization with ggplot2 (Part 2))',\n",
       " 80: 'r (String Manipulation in R with stringr)',\n",
       " 69: 'python (Statistical Simulation in Python)',\n",
       " 73: 'None (Financial Trading in R)',\n",
       " 5: 'r (Fraud Detection in R)',\n",
       " 100: 'python (Working with Dates and Times in Python)',\n",
       " 62: 'Spreadsheet (Intermediate Spreadsheets for Data Science)',\n",
       " 98: 'python (Building Chatbots in Python)',\n",
       " 8: 'r (Bayesian Modeling with RJAGS)',\n",
       " 2: 'Spreadsheet (Financial Analytics in Spreadsheets)',\n",
       " 54: 'sql (Improving Query Performance in SQL Server)',\n",
       " 92: 'python (Foundations of Predictive Analytics in Python (Part 2))',\n",
       " 29: 'r (Spatial Statistics in R)',\n",
       " 17: 'python (Analyzing US Census Data in Python)',\n",
       " 42: 'shell (Conda Essentials)'}"
      ]
     },
     "execution_count": 30,
     "metadata": {},
     "output_type": "execute_result"
    }
   ],
   "source": [
    "final"
   ]
  },
  {
   "cell_type": "code",
   "execution_count": 31,
   "id": "e598b03b",
   "metadata": {},
   "outputs": [],
   "source": [
    "#Differentiate the programming language  and storing into a seprate dictonary\n",
    "python={}\n",
    "spreadsheets={}\n",
    "r={}\n",
    "sql={}\n",
    "shell={}\n",
    "for keys,values in final.items():\n",
    "    if values[0:2]==\"py\":\n",
    "        python[keys]=values\n",
    "    elif values[0:2]==\"r \" or values[0:2]==\"No\" :\n",
    "        r[keys]=values\n",
    "    elif values[0:2]==\"sq\":\n",
    "        sql[keys]=values\n",
    "    elif values[0:2]==\"sh\":\n",
    "        shell[keys]=values\n",
    "    elif values[0:2]==\"Sp\":\n",
    "        spreadsheets[keys]=values\n",
    "    \n",
    "\n"
   ]
  },
  {
   "cell_type": "code",
   "execution_count": 32,
   "id": "0bc607e2",
   "metadata": {},
   "outputs": [
    {
     "name": "stdout",
     "output_type": "stream",
     "text": [
      "dict_keys([56, 26, 86, 7, 44, 14, 32, 28, 36, 95, 33, 1, 66, 59, 75, 90, 43, 52, 34, 67, 88, 40, 78, 21, 30, 93, 39, 97, 18, 19, 72, 69, 100, 98, 92, 17])\n"
     ]
    }
   ],
   "source": [
    "print(python.keys())"
   ]
  },
  {
   "cell_type": "code",
   "execution_count": 33,
   "id": "63cfbebc",
   "metadata": {},
   "outputs": [
    {
     "name": "stdout",
     "output_type": "stream",
     "text": [
      "{56: 'python (Extreme Gradient Boosting with XGBoost)', 26: 'python (Introduction to Seaborn)', 86: 'python (Building Recommendation Engines with PySpark)', 7: 'python (Introduction to Python)', 44: 'python (Introduction to Data Science in Python)', 14: 'python (Intro to Portfolio Risk Management in Python)', 32: 'python (Intermediate Python for Data Science)', 28: 'python (Python for Spreadsheet Users)', 36: 'python (Importing Data in Python (Part 1))', 95: 'python (Python Data Science Toolbox (Part 2))', 33: 'python (Introduction to Matplotlib)', 1: 'python (Machine Learning with Apache Spark)', 66: 'python (Visualizing Time Series Data in Python)', 59: 'python (Visualizing Geospatial Data in Python)', 75: 'python (Data Visualization with Seaborn)', 90: 'python (pandas Foundations)', 43: 'python (Writing Efficient Python Code)', 52: 'python (Feature Engineering for NLP in Python)', 34: 'python (Big Data Fundamentals via PySpark)', 67: 'python (Forecasting Using ARIMA Models in Python)', 88: 'python (Python for R Users)', 40: 'python (Machine Learning for Finance in Python)', 78: 'python (Network Analysis in Python (Part 2))', 21: 'python (Supply Chain Analytics in Python)', 30: 'python (Fraud Detection in Python)', 93: 'python (Python for MATLAB Users)', 39: 'python (Parallel Computing with Dask)', 97: 'python (Foundations of Predictive Analytics in Python (Part 1))', 18: 'python (Network Analysis in Python (Part 1))', 19: 'python (Introduction to Databases in Python)', 72: 'python (Natural Language Processing Fundamentals in Python)', 69: 'python (Statistical Simulation in Python)', 100: 'python (Working with Dates and Times in Python)', 98: 'python (Building Chatbots in Python)', 92: 'python (Foundations of Predictive Analytics in Python (Part 2))', 17: 'python (Analyzing US Census Data in Python)'}\n"
     ]
    }
   ],
   "source": [
    "print(python)"
   ]
  },
  {
   "cell_type": "code",
   "execution_count": 34,
   "id": "0f96c73c",
   "metadata": {},
   "outputs": [
    {
     "name": "stdout",
     "output_type": "stream",
     "text": [
      "{62: 'Spreadsheet (Intermediate Spreadsheets for Data Science)', 2: 'Spreadsheet (Financial Analytics in Spreadsheets)'}\n"
     ]
    }
   ],
   "source": [
    "print(spreadsheets)"
   ]
  },
  {
   "cell_type": "code",
   "execution_count": 35,
   "id": "5974ff74",
   "metadata": {},
   "outputs": [
    {
     "name": "stdout",
     "output_type": "stream",
     "text": [
      "{82: 'shell (Conda for Building & Distributing Packages)', 20: 'shell (Introduction to Git for Data Science)', 42: 'shell (Conda Essentials)'}\n"
     ]
    }
   ],
   "source": [
    "print(shell)"
   ]
  },
  {
   "cell_type": "code",
   "execution_count": 36,
   "id": "f253c824",
   "metadata": {},
   "outputs": [
    {
     "name": "stdout",
     "output_type": "stream",
     "text": [
      "{96: 'sql (Intro to SQL for Data Science)', 68: 'sql (Analyzing Business Data in SQL)', 6: 'sql (Joining Data in SQL)', 70: 'sql (Introduction to Relational Databases in SQL)', 15: 'sql (Data-Driven Decision Making in SQL)', 54: 'sql (Improving Query Performance in SQL Server)'}\n"
     ]
    }
   ],
   "source": [
    "print(sql)"
   ]
  },
  {
   "cell_type": "code",
   "execution_count": 37,
   "id": "abd3b577",
   "metadata": {},
   "outputs": [
    {
     "name": "stdout",
     "output_type": "stream",
     "text": [
      "{23: 'r (GARCH Models in R)', 46: 'r (Designing and Analyzing Clinical Trials in R)', 24: 'r (Nonlinear Modeling in R with GAMs)', 87: 'r (Introduction to Spark in R using sparklyr)', 61: 'r (Manipulating Time Series Data in R: Case Studies)', 85: 'r (Bond Valuation and Analysis in R)', 81: 'r (Exploratory Data Analysis in R: Case Study)', 31: 'r (Introduction to R for Finance)', 76: 'r (Interactive Maps with leaflet in R)', 35: 'r (Interactive Data Visualization with rbokeh)', 71: 'r (Differential Expression Analysis in R with limma)', 37: 'r (Writing Efficient R Code)', 3: 'r (Intermediate R)', 25: 'r (Machine Learning with Tree-Based Models in R)', 83: 'r (Course Creation at DataCamp)', 38: 'r (Visualizing Big Data with Trelliscope)', 16: 'r (Intermediate Functional Programming with purrr)', 74: 'r (Valuation of Life Insurance Products in R)', 64: 'r (Importing Data in R (Part 1))', 41: 'r (Defensive R Programming)', 94: 'r (Sentiment Analysis in R: The Tidy Way)', 63: 'r (Human Resources Analytics in R: Predicting Employee Churn)', 60: 'r (Data Science for Managers)', 91: 'r (Importing Data in R (Part 2))', 11: 'r (Supervised Learning in R: Classification)', 49: 'r (Marketing Analytics in R: Statistical Modeling)', 13: 'r (Equity Valuation in R)', 51: 'r (Data Manipulation in R with dplyr)', 9: 'r (Credit Risk Modeling in R)', 84: 'r (Supervised Learning in R: Regression)', 50: 'r (Machine Learning Toolbox)', 22: 'r (Importing & Cleaning Data in R: Case Studies)', 65: 'r (Foundations of Functional Programming with purrr)', 45: 'r (Multiple and Logistic Regression)', 55: 'r (Inference for Linear Regression)', 27: 'r (Bayesian Regression Modeling with rstanarm)', 58: 'r (Introduction to Text Analysis in R)', 48: 'r (Data Manipulation in R with data.table)', 53: 'r (Interactive Data Visualization with plotly in R)', 57: 'None (Statistical Modeling in R (Part 2))', 79: 'r (Developing R Packages)', 99: 'r (Predictive Analytics using Networked Data in R)', 47: 'r (Foundations of Inference)', 89: 'r (RNA-Seq Differential Expression Analysis)', 10: 'r (Experimental Design in R)', 12: 'r (Visualizing Time Series Data in R)', 4: 'r (Data Visualization with ggplot2 (Part 2))', 80: 'r (String Manipulation in R with stringr)', 73: 'None (Financial Trading in R)', 5: 'r (Fraud Detection in R)', 8: 'r (Bayesian Modeling with RJAGS)', 29: 'r (Spatial Statistics in R)'}\n"
     ]
    }
   ],
   "source": [
    "print(r)"
   ]
  },
  {
   "cell_type": "code",
   "execution_count": 38,
   "id": "ff78fc24",
   "metadata": {},
   "outputs": [
    {
     "name": "stdout",
     "output_type": "stream",
     "text": [
      "99\n"
     ]
    }
   ],
   "source": [
    "#checking length of dictonary\n",
    "print(len(spreadsheets)+len(shell)+len(r)+len(python)+len(sql))"
   ]
  },
  {
   "cell_type": "code",
   "execution_count": 39,
   "id": "a182731f",
   "metadata": {},
   "outputs": [
    {
     "name": "stdout",
     "output_type": "stream",
     "text": [
      "1\n",
      "7\n"
     ]
    }
   ],
   "source": [
    "print(list(python.keys()).index(26))\n",
    "p=2\n",
    "print(list(python)[p+1])\n"
   ]
  },
  {
   "cell_type": "code",
   "execution_count": 30,
   "id": "40ddfe2f",
   "metadata": {},
   "outputs": [],
   "source": [
    "#extracting 99 uniquedata from database\n",
    "rating1=pd.read_sql(\"SELECT DISTINCT(course_id) FROM rating ORDER BY course_id LIMIT 99\", db_engine)\n",
    "\n",
    "#and storeing into another variable\n",
    "list1=rating1['course_id']"
   ]
  },
  {
   "cell_type": "code",
   "execution_count": 31,
   "id": "3f02aaf3",
   "metadata": {},
   "outputs": [
    {
     "name": "stdout",
     "output_type": "stream",
     "text": [
      "99\n"
     ]
    }
   ],
   "source": [
    "print(len(list1))"
   ]
  },
  {
   "cell_type": "code",
   "execution_count": 234,
   "id": "793798d1",
   "metadata": {},
   "outputs": [
    {
     "name": "stdout",
     "output_type": "stream",
     "text": [
      "1\n"
     ]
    }
   ],
   "source": [
    "\"\"\"import numpy as np\n",
    "dict={'user_id':np.arange(100)}\n",
    "print(len(dict))\"\"\"\n"
   ]
  },
  {
   "cell_type": "code",
   "execution_count": 32,
   "id": "77cf98f8",
   "metadata": {},
   "outputs": [
    {
     "data": {
      "text/plain": [
       "99"
      ]
     },
     "execution_count": 32,
     "metadata": {},
     "output_type": "execute_result"
    }
   ],
   "source": [
    "#final recommendation \n",
    "\n",
    "def get_courses_to_recommend(ratings,python,spreadsheets,sql,r,shell,df):\n",
    "    #user_list = ratings.course_id.unique\n",
    "    #course_set = set(course_data.course_id.unique())\n",
    "    course_Recomandate=[]\n",
    "    for user in list1:\n",
    "        if user in python:\n",
    "            p=list(python.keys()).index(user)\n",
    "            course_Recomandate.append(list(python)[p-1])\n",
    "        elif user==56:\n",
    "            p=list(python.keys()).index(user)\n",
    "            course_Recomandate.append(list(python)[p+1])\n",
    "        elif user in spreadsheets:\n",
    "            q=list(spreadsheets.keys()).index(user)\n",
    "            course_Recomandate.append(int(list(spreadsheets)[q-1]))\n",
    "        elif user==62:\n",
    "            q=list(spreadsheets.keys()).index(user)\n",
    "            course_Recomandate.append(int(list(spreadsheets)[q+1]))\n",
    "        elif user in sql :\n",
    "            s=list(sql.keys()).index(user)\n",
    "            course_Recomandate.append(int(list(sql)[s-1]))\n",
    "        elif user==96 :\n",
    "            s=list(sql.keys()).index(user)\n",
    "            course_Recomandate.append(int(list(sql)[s+1]))\n",
    "        elif user in r :\n",
    "            t=list(r.keys()).index(user)\n",
    "            course_Recomandate.append(int(list(r)[t-1]))\n",
    "        elif user == 23 :\n",
    "            t=list(r.keys()).index(user)\n",
    "            course_Recomandate.append(int(list(r)[t+1]))\n",
    "        elif user in shell:\n",
    "            u=list(shell.keys()).index(user)\n",
    "            course_Recomandate.append(int(list(shell)[u-1]))\n",
    "        elif user==82:\n",
    "            u=list(shell.keys()).index(user)\n",
    "            course_Recomandate.append(int(list(shell)[u+1]))\n",
    "        \n",
    "        \n",
    "    return(course_Recomandate)\n",
    "    \n",
    "    \n",
    "    \n",
    "\n",
    "\n",
    "Course_Recomandate1=(get_courses_to_recommend(list1,python,spreadsheets,sql,r,shell,df))\n",
    "len(Course_Recomandate1)\n"
   ]
  },
  {
   "cell_type": "code",
   "execution_count": 33,
   "id": "dc1288ec",
   "metadata": {},
   "outputs": [],
   "source": [
    "#making dataframe and merging User_id,Course_Recomandate,Previous_Course\n",
    "dict1={\"User_ID\":list1,\"Previous_Course\":list1,\"Course_Recomandate\":Course_Recomandate1}\n",
    "courses_to_recommend=pd.DataFrame(dict1)"
   ]
  },
  {
   "cell_type": "code",
   "execution_count": 34,
   "id": "4ac6d2d3",
   "metadata": {},
   "outputs": [
    {
     "data": {
      "text/html": [
       "<div>\n",
       "<style scoped>\n",
       "    .dataframe tbody tr th:only-of-type {\n",
       "        vertical-align: middle;\n",
       "    }\n",
       "\n",
       "    .dataframe tbody tr th {\n",
       "        vertical-align: top;\n",
       "    }\n",
       "\n",
       "    .dataframe thead th {\n",
       "        text-align: right;\n",
       "    }\n",
       "</style>\n",
       "<table border=\"1\" class=\"dataframe\">\n",
       "  <thead>\n",
       "    <tr style=\"text-align: right;\">\n",
       "      <th></th>\n",
       "      <th>User_ID</th>\n",
       "      <th>Previous_Course</th>\n",
       "      <th>Course_Recomandate</th>\n",
       "    </tr>\n",
       "  </thead>\n",
       "  <tbody>\n",
       "    <tr>\n",
       "      <th>0</th>\n",
       "      <td>1</td>\n",
       "      <td>1</td>\n",
       "      <td>33</td>\n",
       "    </tr>\n",
       "    <tr>\n",
       "      <th>1</th>\n",
       "      <td>2</td>\n",
       "      <td>2</td>\n",
       "      <td>62</td>\n",
       "    </tr>\n",
       "    <tr>\n",
       "      <th>2</th>\n",
       "      <td>3</td>\n",
       "      <td>3</td>\n",
       "      <td>37</td>\n",
       "    </tr>\n",
       "    <tr>\n",
       "      <th>3</th>\n",
       "      <td>4</td>\n",
       "      <td>4</td>\n",
       "      <td>12</td>\n",
       "    </tr>\n",
       "    <tr>\n",
       "      <th>4</th>\n",
       "      <td>5</td>\n",
       "      <td>5</td>\n",
       "      <td>73</td>\n",
       "    </tr>\n",
       "    <tr>\n",
       "      <th>...</th>\n",
       "      <td>...</td>\n",
       "      <td>...</td>\n",
       "      <td>...</td>\n",
       "    </tr>\n",
       "    <tr>\n",
       "      <th>94</th>\n",
       "      <td>96</td>\n",
       "      <td>96</td>\n",
       "      <td>54</td>\n",
       "    </tr>\n",
       "    <tr>\n",
       "      <th>95</th>\n",
       "      <td>97</td>\n",
       "      <td>97</td>\n",
       "      <td>39</td>\n",
       "    </tr>\n",
       "    <tr>\n",
       "      <th>96</th>\n",
       "      <td>98</td>\n",
       "      <td>98</td>\n",
       "      <td>100</td>\n",
       "    </tr>\n",
       "    <tr>\n",
       "      <th>97</th>\n",
       "      <td>99</td>\n",
       "      <td>99</td>\n",
       "      <td>79</td>\n",
       "    </tr>\n",
       "    <tr>\n",
       "      <th>98</th>\n",
       "      <td>100</td>\n",
       "      <td>100</td>\n",
       "      <td>69</td>\n",
       "    </tr>\n",
       "  </tbody>\n",
       "</table>\n",
       "<p>99 rows × 3 columns</p>\n",
       "</div>"
      ],
      "text/plain": [
       "    User_ID  Previous_Course  Course_Recomandate\n",
       "0         1                1                  33\n",
       "1         2                2                  62\n",
       "2         3                3                  37\n",
       "3         4                4                  12\n",
       "4         5                5                  73\n",
       "..      ...              ...                 ...\n",
       "94       96               96                  54\n",
       "95       97               97                  39\n",
       "96       98               98                 100\n",
       "97       99               99                  79\n",
       "98      100              100                  69\n",
       "\n",
       "[99 rows x 3 columns]"
      ]
     },
     "execution_count": 34,
     "metadata": {},
     "output_type": "execute_result"
    }
   ],
   "source": [
    "courses_to_recommend"
   ]
  },
  {
   "cell_type": "code",
   "execution_count": 35,
   "id": "8bd33a51",
   "metadata": {},
   "outputs": [],
   "source": [
    "courses_to_recommend.to_csv('courses_to_recommend.csv', index = False)"
   ]
  },
  {
   "cell_type": "code",
   "execution_count": 36,
   "id": "7827419e",
   "metadata": {},
   "outputs": [
    {
     "data": {
      "text/html": [
       "<div>\n",
       "<style scoped>\n",
       "    .dataframe tbody tr th:only-of-type {\n",
       "        vertical-align: middle;\n",
       "    }\n",
       "\n",
       "    .dataframe tbody tr th {\n",
       "        vertical-align: top;\n",
       "    }\n",
       "\n",
       "    .dataframe thead th {\n",
       "        text-align: right;\n",
       "    }\n",
       "</style>\n",
       "<table border=\"1\" class=\"dataframe\">\n",
       "  <thead>\n",
       "    <tr style=\"text-align: right;\">\n",
       "      <th></th>\n",
       "      <th>user_id</th>\n",
       "      <th>course_id</th>\n",
       "    </tr>\n",
       "  </thead>\n",
       "  <tbody>\n",
       "    <tr>\n",
       "      <th>0</th>\n",
       "      <td>1</td>\n",
       "      <td>1</td>\n",
       "    </tr>\n",
       "    <tr>\n",
       "      <th>1</th>\n",
       "      <td>1</td>\n",
       "      <td>2</td>\n",
       "    </tr>\n",
       "    <tr>\n",
       "      <th>2</th>\n",
       "      <td>1</td>\n",
       "      <td>3</td>\n",
       "    </tr>\n",
       "    <tr>\n",
       "      <th>3</th>\n",
       "      <td>1</td>\n",
       "      <td>4</td>\n",
       "    </tr>\n",
       "    <tr>\n",
       "      <th>4</th>\n",
       "      <td>1</td>\n",
       "      <td>5</td>\n",
       "    </tr>\n",
       "    <tr>\n",
       "      <th>...</th>\n",
       "      <td>...</td>\n",
       "      <td>...</td>\n",
       "    </tr>\n",
       "    <tr>\n",
       "      <th>89</th>\n",
       "      <td>1</td>\n",
       "      <td>96</td>\n",
       "    </tr>\n",
       "    <tr>\n",
       "      <th>90</th>\n",
       "      <td>1</td>\n",
       "      <td>97</td>\n",
       "    </tr>\n",
       "    <tr>\n",
       "      <th>91</th>\n",
       "      <td>1</td>\n",
       "      <td>98</td>\n",
       "    </tr>\n",
       "    <tr>\n",
       "      <th>92</th>\n",
       "      <td>1</td>\n",
       "      <td>99</td>\n",
       "    </tr>\n",
       "    <tr>\n",
       "      <th>93</th>\n",
       "      <td>1</td>\n",
       "      <td>100</td>\n",
       "    </tr>\n",
       "  </tbody>\n",
       "</table>\n",
       "<p>94 rows × 2 columns</p>\n",
       "</div>"
      ],
      "text/plain": [
       "    user_id  course_id\n",
       "0         1          1\n",
       "1         1          2\n",
       "2         1          3\n",
       "3         1          4\n",
       "4         1          5\n",
       "..      ...        ...\n",
       "89        1         96\n",
       "90        1         97\n",
       "91        1         98\n",
       "92        1         99\n",
       "93        1        100\n",
       "\n",
       "[94 rows x 2 columns]"
      ]
     },
     "execution_count": 36,
     "metadata": {},
     "output_type": "execute_result"
    }
   ],
   "source": [
    "# def get_courses_to_recommend(ratings, course_data):\n",
    "#     user_list = ratings.user_id.unique()\n",
    "\n",
    "#     course_set = set(course_data.course_id.unique())\n",
    "\n",
    "#     non_enrolled_users = []\n",
    "\n",
    "#     for user in user_list:\n",
    "#         rated_course_set = set(ratings[ratings.user_id == user].course_id.unique())\n",
    "#         non_enrolled_courses = course_set - rated_course_set\n",
    "#         non_enrolled_users = non_enrolled_users + [(user, cid) for cid in non_enrolled_courses]\n",
    "#         break\n",
    "#     non_enrolled_courses_df = pd.DataFrame(non_enrolled_users, columns = ['user_id', 'course_id'])\n",
    "#     return non_enrolled_courses_df\n",
    "\n",
    "# courses_to_recommend = get_courses_to_recommend(ratings, course_data)\n",
    "# courses_to_recommend.to_csv('courses_to_recommend.csv', index = False)\n",
    "# courses_to_recommend.sample(n=500).to_csv('courses_to_recommend_small.csv', index = False)"
   ]
  },
  {
   "cell_type": "code",
   "execution_count": 36,
   "id": "91919b8f",
   "metadata": {},
   "outputs": [
    {
     "data": {
      "text/plain": [
       "(100, 4)"
      ]
     },
     "execution_count": 36,
     "metadata": {},
     "output_type": "execute_result"
    }
   ],
   "source": [
    "course_data.shape"
   ]
  },
  {
   "cell_type": "code",
   "execution_count": 37,
   "id": "84ce2b08",
   "metadata": {},
   "outputs": [],
   "source": [
    "temp = pd.read_csv('courses_to_recommend.csv')\n",
    "#temp.sample(n=2000).to_csv('courses_to_recommend_small.csv', index = False)"
   ]
  },
  {
   "cell_type": "code",
   "execution_count": 38,
   "id": "caa290ba",
   "metadata": {},
   "outputs": [
    {
     "data": {
      "text/html": [
       "<div>\n",
       "<style scoped>\n",
       "    .dataframe tbody tr th:only-of-type {\n",
       "        vertical-align: middle;\n",
       "    }\n",
       "\n",
       "    .dataframe tbody tr th {\n",
       "        vertical-align: top;\n",
       "    }\n",
       "\n",
       "    .dataframe thead th {\n",
       "        text-align: right;\n",
       "    }\n",
       "</style>\n",
       "<table border=\"1\" class=\"dataframe\">\n",
       "  <thead>\n",
       "    <tr style=\"text-align: right;\">\n",
       "      <th></th>\n",
       "      <th>User_ID</th>\n",
       "      <th>Previous_Course</th>\n",
       "      <th>Course_Recomandate</th>\n",
       "    </tr>\n",
       "  </thead>\n",
       "  <tbody>\n",
       "    <tr>\n",
       "      <th>0</th>\n",
       "      <td>1</td>\n",
       "      <td>1</td>\n",
       "      <td>33</td>\n",
       "    </tr>\n",
       "    <tr>\n",
       "      <th>1</th>\n",
       "      <td>2</td>\n",
       "      <td>2</td>\n",
       "      <td>62</td>\n",
       "    </tr>\n",
       "    <tr>\n",
       "      <th>2</th>\n",
       "      <td>3</td>\n",
       "      <td>3</td>\n",
       "      <td>37</td>\n",
       "    </tr>\n",
       "    <tr>\n",
       "      <th>3</th>\n",
       "      <td>4</td>\n",
       "      <td>4</td>\n",
       "      <td>12</td>\n",
       "    </tr>\n",
       "    <tr>\n",
       "      <th>4</th>\n",
       "      <td>5</td>\n",
       "      <td>5</td>\n",
       "      <td>73</td>\n",
       "    </tr>\n",
       "  </tbody>\n",
       "</table>\n",
       "</div>"
      ],
      "text/plain": [
       "   User_ID  Previous_Course  Course_Recomandate\n",
       "0        1                1                  33\n",
       "1        2                2                  62\n",
       "2        3                3                  37\n",
       "3        4                4                  12\n",
       "4        5                5                  73"
      ]
     },
     "execution_count": 38,
     "metadata": {},
     "output_type": "execute_result"
    }
   ],
   "source": [
    "courses_to_recommend = pd.read_csv('courses_to_recommend.csv')\n",
    "\n",
    "courses_to_recommend.head()"
   ]
  },
  {
   "cell_type": "code",
   "execution_count": 40,
   "id": "cbec030f",
   "metadata": {},
   "outputs": [
    {
     "ename": "KeyError",
     "evalue": "'User_id'",
     "output_type": "error",
     "traceback": [
      "\u001b[1;31m---------------------------------------------------------------------------\u001b[0m",
      "\u001b[1;31mKeyError\u001b[0m                                  Traceback (most recent call last)",
      "Cell \u001b[1;32mIn[40], line 1\u001b[0m\n\u001b[1;32m----> 1\u001b[0m \u001b[43mcourses_to_recommend\u001b[49m\u001b[38;5;241;43m.\u001b[39;49m\u001b[43mgroupby\u001b[49m\u001b[43m(\u001b[49m\u001b[38;5;124;43m'\u001b[39;49m\u001b[38;5;124;43mUser_id\u001b[39;49m\u001b[38;5;124;43m'\u001b[39;49m\u001b[43m)\u001b[49m\u001b[38;5;241m.\u001b[39mcount()\n",
      "File \u001b[1;32m~\\AppData\\Local\\Programs\\Python\\Python311\\Lib\\site-packages\\pandas\\core\\frame.py:8402\u001b[0m, in \u001b[0;36mDataFrame.groupby\u001b[1;34m(self, by, axis, level, as_index, sort, group_keys, squeeze, observed, dropna)\u001b[0m\n\u001b[0;32m   8399\u001b[0m     \u001b[38;5;28;01mraise\u001b[39;00m \u001b[38;5;167;01mTypeError\u001b[39;00m(\u001b[38;5;124m\"\u001b[39m\u001b[38;5;124mYou have to supply one of \u001b[39m\u001b[38;5;124m'\u001b[39m\u001b[38;5;124mby\u001b[39m\u001b[38;5;124m'\u001b[39m\u001b[38;5;124m and \u001b[39m\u001b[38;5;124m'\u001b[39m\u001b[38;5;124mlevel\u001b[39m\u001b[38;5;124m'\u001b[39m\u001b[38;5;124m\"\u001b[39m)\n\u001b[0;32m   8400\u001b[0m axis \u001b[38;5;241m=\u001b[39m \u001b[38;5;28mself\u001b[39m\u001b[38;5;241m.\u001b[39m_get_axis_number(axis)\n\u001b[1;32m-> 8402\u001b[0m \u001b[38;5;28;01mreturn\u001b[39;00m \u001b[43mDataFrameGroupBy\u001b[49m\u001b[43m(\u001b[49m\n\u001b[0;32m   8403\u001b[0m \u001b[43m    \u001b[49m\u001b[43mobj\u001b[49m\u001b[38;5;241;43m=\u001b[39;49m\u001b[38;5;28;43mself\u001b[39;49m\u001b[43m,\u001b[49m\n\u001b[0;32m   8404\u001b[0m \u001b[43m    \u001b[49m\u001b[43mkeys\u001b[49m\u001b[38;5;241;43m=\u001b[39;49m\u001b[43mby\u001b[49m\u001b[43m,\u001b[49m\n\u001b[0;32m   8405\u001b[0m \u001b[43m    \u001b[49m\u001b[43maxis\u001b[49m\u001b[38;5;241;43m=\u001b[39;49m\u001b[43maxis\u001b[49m\u001b[43m,\u001b[49m\n\u001b[0;32m   8406\u001b[0m \u001b[43m    \u001b[49m\u001b[43mlevel\u001b[49m\u001b[38;5;241;43m=\u001b[39;49m\u001b[43mlevel\u001b[49m\u001b[43m,\u001b[49m\n\u001b[0;32m   8407\u001b[0m \u001b[43m    \u001b[49m\u001b[43mas_index\u001b[49m\u001b[38;5;241;43m=\u001b[39;49m\u001b[43mas_index\u001b[49m\u001b[43m,\u001b[49m\n\u001b[0;32m   8408\u001b[0m \u001b[43m    \u001b[49m\u001b[43msort\u001b[49m\u001b[38;5;241;43m=\u001b[39;49m\u001b[43msort\u001b[49m\u001b[43m,\u001b[49m\n\u001b[0;32m   8409\u001b[0m \u001b[43m    \u001b[49m\u001b[43mgroup_keys\u001b[49m\u001b[38;5;241;43m=\u001b[39;49m\u001b[43mgroup_keys\u001b[49m\u001b[43m,\u001b[49m\n\u001b[0;32m   8410\u001b[0m \u001b[43m    \u001b[49m\u001b[43msqueeze\u001b[49m\u001b[38;5;241;43m=\u001b[39;49m\u001b[43msqueeze\u001b[49m\u001b[43m,\u001b[49m\n\u001b[0;32m   8411\u001b[0m \u001b[43m    \u001b[49m\u001b[43mobserved\u001b[49m\u001b[38;5;241;43m=\u001b[39;49m\u001b[43mobserved\u001b[49m\u001b[43m,\u001b[49m\n\u001b[0;32m   8412\u001b[0m \u001b[43m    \u001b[49m\u001b[43mdropna\u001b[49m\u001b[38;5;241;43m=\u001b[39;49m\u001b[43mdropna\u001b[49m\u001b[43m,\u001b[49m\n\u001b[0;32m   8413\u001b[0m \u001b[43m\u001b[49m\u001b[43m)\u001b[49m\n",
      "File \u001b[1;32m~\\AppData\\Local\\Programs\\Python\\Python311\\Lib\\site-packages\\pandas\\core\\groupby\\groupby.py:965\u001b[0m, in \u001b[0;36mGroupBy.__init__\u001b[1;34m(self, obj, keys, axis, level, grouper, exclusions, selection, as_index, sort, group_keys, squeeze, observed, mutated, dropna)\u001b[0m\n\u001b[0;32m    962\u001b[0m \u001b[38;5;28;01mif\u001b[39;00m grouper \u001b[38;5;129;01mis\u001b[39;00m \u001b[38;5;28;01mNone\u001b[39;00m:\n\u001b[0;32m    963\u001b[0m     \u001b[38;5;28;01mfrom\u001b[39;00m \u001b[38;5;21;01mpandas\u001b[39;00m\u001b[38;5;21;01m.\u001b[39;00m\u001b[38;5;21;01mcore\u001b[39;00m\u001b[38;5;21;01m.\u001b[39;00m\u001b[38;5;21;01mgroupby\u001b[39;00m\u001b[38;5;21;01m.\u001b[39;00m\u001b[38;5;21;01mgrouper\u001b[39;00m \u001b[38;5;28;01mimport\u001b[39;00m get_grouper\n\u001b[1;32m--> 965\u001b[0m     grouper, exclusions, obj \u001b[38;5;241m=\u001b[39m \u001b[43mget_grouper\u001b[49m\u001b[43m(\u001b[49m\n\u001b[0;32m    966\u001b[0m \u001b[43m        \u001b[49m\u001b[43mobj\u001b[49m\u001b[43m,\u001b[49m\n\u001b[0;32m    967\u001b[0m \u001b[43m        \u001b[49m\u001b[43mkeys\u001b[49m\u001b[43m,\u001b[49m\n\u001b[0;32m    968\u001b[0m \u001b[43m        \u001b[49m\u001b[43maxis\u001b[49m\u001b[38;5;241;43m=\u001b[39;49m\u001b[43maxis\u001b[49m\u001b[43m,\u001b[49m\n\u001b[0;32m    969\u001b[0m \u001b[43m        \u001b[49m\u001b[43mlevel\u001b[49m\u001b[38;5;241;43m=\u001b[39;49m\u001b[43mlevel\u001b[49m\u001b[43m,\u001b[49m\n\u001b[0;32m    970\u001b[0m \u001b[43m        \u001b[49m\u001b[43msort\u001b[49m\u001b[38;5;241;43m=\u001b[39;49m\u001b[43msort\u001b[49m\u001b[43m,\u001b[49m\n\u001b[0;32m    971\u001b[0m \u001b[43m        \u001b[49m\u001b[43mobserved\u001b[49m\u001b[38;5;241;43m=\u001b[39;49m\u001b[43mobserved\u001b[49m\u001b[43m,\u001b[49m\n\u001b[0;32m    972\u001b[0m \u001b[43m        \u001b[49m\u001b[43mmutated\u001b[49m\u001b[38;5;241;43m=\u001b[39;49m\u001b[38;5;28;43mself\u001b[39;49m\u001b[38;5;241;43m.\u001b[39;49m\u001b[43mmutated\u001b[49m\u001b[43m,\u001b[49m\n\u001b[0;32m    973\u001b[0m \u001b[43m        \u001b[49m\u001b[43mdropna\u001b[49m\u001b[38;5;241;43m=\u001b[39;49m\u001b[38;5;28;43mself\u001b[39;49m\u001b[38;5;241;43m.\u001b[39;49m\u001b[43mdropna\u001b[49m\u001b[43m,\u001b[49m\n\u001b[0;32m    974\u001b[0m \u001b[43m    \u001b[49m\u001b[43m)\u001b[49m\n\u001b[0;32m    976\u001b[0m \u001b[38;5;28mself\u001b[39m\u001b[38;5;241m.\u001b[39mobj \u001b[38;5;241m=\u001b[39m obj\n\u001b[0;32m    977\u001b[0m \u001b[38;5;28mself\u001b[39m\u001b[38;5;241m.\u001b[39maxis \u001b[38;5;241m=\u001b[39m obj\u001b[38;5;241m.\u001b[39m_get_axis_number(axis)\n",
      "File \u001b[1;32m~\\AppData\\Local\\Programs\\Python\\Python311\\Lib\\site-packages\\pandas\\core\\groupby\\grouper.py:888\u001b[0m, in \u001b[0;36mget_grouper\u001b[1;34m(obj, key, axis, level, sort, observed, mutated, validate, dropna)\u001b[0m\n\u001b[0;32m    886\u001b[0m         in_axis, level, gpr \u001b[38;5;241m=\u001b[39m \u001b[38;5;28;01mFalse\u001b[39;00m, gpr, \u001b[38;5;28;01mNone\u001b[39;00m\n\u001b[0;32m    887\u001b[0m     \u001b[38;5;28;01melse\u001b[39;00m:\n\u001b[1;32m--> 888\u001b[0m         \u001b[38;5;28;01mraise\u001b[39;00m \u001b[38;5;167;01mKeyError\u001b[39;00m(gpr)\n\u001b[0;32m    889\u001b[0m \u001b[38;5;28;01melif\u001b[39;00m \u001b[38;5;28misinstance\u001b[39m(gpr, Grouper) \u001b[38;5;129;01mand\u001b[39;00m gpr\u001b[38;5;241m.\u001b[39mkey \u001b[38;5;129;01mis\u001b[39;00m \u001b[38;5;129;01mnot\u001b[39;00m \u001b[38;5;28;01mNone\u001b[39;00m:\n\u001b[0;32m    890\u001b[0m     \u001b[38;5;66;03m# Add key to exclusions\u001b[39;00m\n\u001b[0;32m    891\u001b[0m     exclusions\u001b[38;5;241m.\u001b[39madd(gpr\u001b[38;5;241m.\u001b[39mkey)\n",
      "\u001b[1;31mKeyError\u001b[0m: 'User_id'"
     ]
    }
   ],
   "source": [
    "courses_to_recommend.groupby('User_id').count()"
   ]
  },
  {
   "cell_type": "code",
   "execution_count": 45,
   "id": "ff67fcb6",
   "metadata": {},
   "outputs": [],
   "source": [
    "# Complete the transformation function\n",
    "def transform_recommendations(avg_course_ratings, courses_to_recommend):\n",
    "    # Merge both DataFrames\n",
    "    merged = courses_to_recommend.merge(avg_course_ratings) \n",
    "    \n",
    "    # Sort values by rating and group by user_id\n",
    "    grouped = merged.sort_values(\"rating\", ascending=False).groupby(\"user_id\")\n",
    "    \n",
    "    # Produce the top 3 values and sort by user_id\n",
    "    recommendations = grouped.head(3).sort_values(\"user_id\").reset_index()\n",
    "    \n",
    "    final_recommendations = recommendations[[\"user_id\", \"course_id\",\"rating\"]]\n",
    "    \n",
    "    # Return final recommendations\n",
    "    return final_recommendations\n",
    "\n",
    "\n",
    "# Use the function with the predefined DataFrame objects\n",
    "recommendations = transform_recommendations(avg_course_ratings, courses_to_recommend)"
   ]
  },
  {
   "cell_type": "code",
   "execution_count": 46,
   "id": "adc8bb3f",
   "metadata": {},
   "outputs": [
    {
     "data": {
      "text/html": [
       "<div>\n",
       "<style scoped>\n",
       "    .dataframe tbody tr th:only-of-type {\n",
       "        vertical-align: middle;\n",
       "    }\n",
       "\n",
       "    .dataframe tbody tr th {\n",
       "        vertical-align: top;\n",
       "    }\n",
       "\n",
       "    .dataframe thead th {\n",
       "        text-align: right;\n",
       "    }\n",
       "</style>\n",
       "<table border=\"1\" class=\"dataframe\">\n",
       "  <thead>\n",
       "    <tr style=\"text-align: right;\">\n",
       "      <th></th>\n",
       "      <th>user_id</th>\n",
       "      <th>course_id</th>\n",
       "      <th>rating</th>\n",
       "    </tr>\n",
       "  </thead>\n",
       "  <tbody>\n",
       "    <tr>\n",
       "      <th>0</th>\n",
       "      <td>28900</td>\n",
       "      <td>90</td>\n",
       "      <td>4.492191</td>\n",
       "    </tr>\n",
       "    <tr>\n",
       "      <th>1</th>\n",
       "      <td>28933</td>\n",
       "      <td>90</td>\n",
       "      <td>4.492191</td>\n",
       "    </tr>\n",
       "    <tr>\n",
       "      <th>2</th>\n",
       "      <td>17770</td>\n",
       "      <td>90</td>\n",
       "      <td>4.492191</td>\n",
       "    </tr>\n",
       "    <tr>\n",
       "      <th>3</th>\n",
       "      <td>21548</td>\n",
       "      <td>90</td>\n",
       "      <td>4.492191</td>\n",
       "    </tr>\n",
       "    <tr>\n",
       "      <th>4</th>\n",
       "      <td>13173</td>\n",
       "      <td>90</td>\n",
       "      <td>4.492191</td>\n",
       "    </tr>\n",
       "  </tbody>\n",
       "</table>\n",
       "</div>"
      ],
      "text/plain": [
       "   user_id  course_id    rating\n",
       "0    28900         90  4.492191\n",
       "1    28933         90  4.492191\n",
       "2    17770         90  4.492191\n",
       "3    21548         90  4.492191\n",
       "4    13173         90  4.492191"
      ]
     },
     "execution_count": 46,
     "metadata": {},
     "output_type": "execute_result"
    }
   ],
   "source": [
    "# Merge both DataFrames\n",
    "merged = courses_to_recommend.merge(avg_course_ratings) \n",
    "\n",
    "merged.head()"
   ]
  },
  {
   "cell_type": "code",
   "execution_count": 47,
   "id": "afecbfa2",
   "metadata": {},
   "outputs": [
    {
     "data": {
      "text/html": [
       "<div>\n",
       "<style scoped>\n",
       "    .dataframe tbody tr th:only-of-type {\n",
       "        vertical-align: middle;\n",
       "    }\n",
       "\n",
       "    .dataframe tbody tr th {\n",
       "        vertical-align: top;\n",
       "    }\n",
       "\n",
       "    .dataframe thead th {\n",
       "        text-align: right;\n",
       "    }\n",
       "</style>\n",
       "<table border=\"1\" class=\"dataframe\">\n",
       "  <thead>\n",
       "    <tr style=\"text-align: right;\">\n",
       "      <th></th>\n",
       "      <th>user_id</th>\n",
       "      <th>course_id</th>\n",
       "      <th>rating</th>\n",
       "    </tr>\n",
       "  </thead>\n",
       "  <tbody>\n",
       "    <tr>\n",
       "      <th>1746</th>\n",
       "      <td>9481</td>\n",
       "      <td>46</td>\n",
       "      <td>4.8</td>\n",
       "    </tr>\n",
       "    <tr>\n",
       "      <th>32</th>\n",
       "      <td>35386</td>\n",
       "      <td>23</td>\n",
       "      <td>4.8</td>\n",
       "    </tr>\n",
       "    <tr>\n",
       "      <th>24</th>\n",
       "      <td>1892</td>\n",
       "      <td>23</td>\n",
       "      <td>4.8</td>\n",
       "    </tr>\n",
       "    <tr>\n",
       "      <th>25</th>\n",
       "      <td>30284</td>\n",
       "      <td>23</td>\n",
       "      <td>4.8</td>\n",
       "    </tr>\n",
       "    <tr>\n",
       "      <th>26</th>\n",
       "      <td>33843</td>\n",
       "      <td>23</td>\n",
       "      <td>4.8</td>\n",
       "    </tr>\n",
       "  </tbody>\n",
       "</table>\n",
       "</div>"
      ],
      "text/plain": [
       "      user_id  course_id  rating\n",
       "1746     9481         46     4.8\n",
       "32      35386         23     4.8\n",
       "24       1892         23     4.8\n",
       "25      30284         23     4.8\n",
       "26      33843         23     4.8"
      ]
     },
     "execution_count": 47,
     "metadata": {},
     "output_type": "execute_result"
    }
   ],
   "source": [
    "merged.sort_values(\"rating\", ascending=False).head()"
   ]
  },
  {
   "cell_type": "code",
   "execution_count": 48,
   "id": "aea01ff8",
   "metadata": {},
   "outputs": [
    {
     "data": {
      "text/html": [
       "<div>\n",
       "<style scoped>\n",
       "    .dataframe tbody tr th:only-of-type {\n",
       "        vertical-align: middle;\n",
       "    }\n",
       "\n",
       "    .dataframe tbody tr th {\n",
       "        vertical-align: top;\n",
       "    }\n",
       "\n",
       "    .dataframe thead th {\n",
       "        text-align: right;\n",
       "    }\n",
       "</style>\n",
       "<table border=\"1\" class=\"dataframe\">\n",
       "  <thead>\n",
       "    <tr style=\"text-align: right;\">\n",
       "      <th></th>\n",
       "      <th>user_id</th>\n",
       "      <th>course_id</th>\n",
       "      <th>rating</th>\n",
       "    </tr>\n",
       "  </thead>\n",
       "  <tbody>\n",
       "    <tr>\n",
       "      <th>976</th>\n",
       "      <td>30251</td>\n",
       "      <td>72</td>\n",
       "      <td>4.340278</td>\n",
       "    </tr>\n",
       "  </tbody>\n",
       "</table>\n",
       "</div>"
      ],
      "text/plain": [
       "     user_id  course_id    rating\n",
       "976    30251         72  4.340278"
      ]
     },
     "execution_count": 48,
     "metadata": {},
     "output_type": "execute_result"
    }
   ],
   "source": [
    "merged[merged.user_id == 30251]"
   ]
  },
  {
   "cell_type": "code",
   "execution_count": 49,
   "id": "60120102",
   "metadata": {},
   "outputs": [
    {
     "data": {
      "text/html": [
       "<div>\n",
       "<style scoped>\n",
       "    .dataframe tbody tr th:only-of-type {\n",
       "        vertical-align: middle;\n",
       "    }\n",
       "\n",
       "    .dataframe tbody tr th {\n",
       "        vertical-align: top;\n",
       "    }\n",
       "\n",
       "    .dataframe thead th {\n",
       "        text-align: right;\n",
       "    }\n",
       "</style>\n",
       "<table border=\"1\" class=\"dataframe\">\n",
       "  <thead>\n",
       "    <tr style=\"text-align: right;\">\n",
       "      <th></th>\n",
       "      <th>user_id</th>\n",
       "      <th>course_id</th>\n",
       "      <th>rating</th>\n",
       "    </tr>\n",
       "  </thead>\n",
       "  <tbody>\n",
       "    <tr>\n",
       "      <th>1828</th>\n",
       "      <td>7</td>\n",
       "      <td>28</td>\n",
       "      <td>4.578947</td>\n",
       "    </tr>\n",
       "    <tr>\n",
       "      <th>153</th>\n",
       "      <td>44</td>\n",
       "      <td>57</td>\n",
       "      <td>4.411765</td>\n",
       "    </tr>\n",
       "    <tr>\n",
       "      <th>1053</th>\n",
       "      <td>49</td>\n",
       "      <td>49</td>\n",
       "      <td>4.492537</td>\n",
       "    </tr>\n",
       "    <tr>\n",
       "      <th>1027</th>\n",
       "      <td>65</td>\n",
       "      <td>2</td>\n",
       "      <td>4.253012</td>\n",
       "    </tr>\n",
       "    <tr>\n",
       "      <th>854</th>\n",
       "      <td>83</td>\n",
       "      <td>24</td>\n",
       "      <td>4.653061</td>\n",
       "    </tr>\n",
       "  </tbody>\n",
       "</table>\n",
       "</div>"
      ],
      "text/plain": [
       "      user_id  course_id    rating\n",
       "1828        7         28  4.578947\n",
       "153        44         57  4.411765\n",
       "1053       49         49  4.492537\n",
       "1027       65          2  4.253012\n",
       "854        83         24  4.653061"
      ]
     },
     "execution_count": 49,
     "metadata": {},
     "output_type": "execute_result"
    }
   ],
   "source": [
    "# Sort values by rating and group by user_id\n",
    "grouped = merged.sort_values(\"rating\", ascending=False).groupby(\"user_id\")\n",
    "\n",
    "\n",
    "# Produce the top 3 values and sort by user_id\n",
    "recommendations = grouped.head(3).sort_values(\"user_id\")\n",
    "\n",
    "recommendations.head()"
   ]
  },
  {
   "cell_type": "code",
   "execution_count": 50,
   "id": "5d977f01",
   "metadata": {},
   "outputs": [
    {
     "data": {
      "text/html": [
       "<div>\n",
       "<style scoped>\n",
       "    .dataframe tbody tr th:only-of-type {\n",
       "        vertical-align: middle;\n",
       "    }\n",
       "\n",
       "    .dataframe tbody tr th {\n",
       "        vertical-align: top;\n",
       "    }\n",
       "\n",
       "    .dataframe thead th {\n",
       "        text-align: right;\n",
       "    }\n",
       "</style>\n",
       "<table border=\"1\" class=\"dataframe\">\n",
       "  <thead>\n",
       "    <tr style=\"text-align: right;\">\n",
       "      <th></th>\n",
       "      <th>user_id</th>\n",
       "      <th>course_id</th>\n",
       "      <th>rating</th>\n",
       "    </tr>\n",
       "  </thead>\n",
       "  <tbody>\n",
       "  </tbody>\n",
       "</table>\n",
       "</div>"
      ],
      "text/plain": [
       "Empty DataFrame\n",
       "Columns: [user_id, course_id, rating]\n",
       "Index: []"
      ]
     },
     "execution_count": 50,
     "metadata": {},
     "output_type": "execute_result"
    }
   ],
   "source": [
    "recommendations[recommendations.user_id == 16456]"
   ]
  },
  {
   "cell_type": "code",
   "execution_count": 51,
   "id": "b2b62ea6",
   "metadata": {},
   "outputs": [],
   "source": [
    "recommendations = transform_recommendations(avg_course_ratings, courses_to_recommend)"
   ]
  },
  {
   "cell_type": "code",
   "execution_count": 52,
   "id": "d70feef5",
   "metadata": {},
   "outputs": [],
   "source": [
    "db_engine = create_engine('mysql+mysqlconnector://{0}:{1}@{2}/{3}'.\n",
    "                                                   format('root', '12345', \n",
    "                                                          'localhost', 'elearning'))\n",
    "\n",
    "def load_to_dwh(recommendations, db_engine):\n",
    "    recommendations.to_sql(\"recommendations\", db_engine, if_exists=\"replace\")"
   ]
  },
  {
   "cell_type": "code",
   "execution_count": 53,
   "id": "a7132913",
   "metadata": {},
   "outputs": [],
   "source": [
    "load_to_dwh(recommendations, db_engine)"
   ]
  },
  {
   "cell_type": "code",
   "execution_count": 55,
   "id": "61580dbc",
   "metadata": {},
   "outputs": [
    {
     "name": "stdout",
     "output_type": "stream",
     "text": [
      "['Statistical Modeling in R (Part 2)']\n"
     ]
    }
   ],
   "source": [
    "def recommendations_for_user(user_id, threshold=4.5):\n",
    "    # Join with the courses table\n",
    "    query = \"\"\"\n",
    "    SELECT title, rating FROM recommendations\n",
    "    INNER JOIN courses ON courses.course_id = recommendations.course_id\n",
    "    WHERE user_id=%(user_id)s AND rating>%(threshold)s\n",
    "    ORDER BY rating DESC\n",
    "    \"\"\"\n",
    "    # Add the threshold parameter\n",
    "    predictions_df = pd.read_sql(query, db_engine, params = {\"user_id\": user_id, \n",
    "                                                           \"threshold\": threshold})\n",
    "    return predictions_df.title.values\n",
    "\n",
    "# Try the function you created\n",
    "print(recommendations_for_user(44, 4.0))"
   ]
  },
  {
   "cell_type": "markdown",
   "id": "abdd97e0",
   "metadata": {},
   "source": [
    "## ETL: Combine all the operations"
   ]
  },
  {
   "cell_type": "code",
   "execution_count": 54,
   "id": "14974d9d",
   "metadata": {},
   "outputs": [],
   "source": [
    "def etl(db_engine):\n",
    "    # Extract the data\n",
    "    courses = extract_course_data(db_engine)\n",
    "    rating = extract_rating_data(db_engine)\n",
    "    \n",
    "    # Clean up courses data\n",
    "    courses = transform_fill_programming_language(courses)\n",
    "    \n",
    "    # Get the average course ratings\n",
    "    avg_course_rating = transform_avg_rating(rating)\n",
    "    \n",
    "    # Get eligible user and course id pairs\n",
    "    courses_to_recommend = pd.read_csv('courses_to_recommend_small.csv')\n",
    "    \n",
    "    # Calculate the recommendations\n",
    "    recommendations = transform_recommendations(\n",
    "    avg_course_rating,\n",
    "    courses_to_recommend,\n",
    "    )\n",
    "    \n",
    "    # Load the recommendations into the database\n",
    "    load_to_dwh(recommendations, db_engine)"
   ]
  },
  {
   "cell_type": "code",
   "execution_count": 55,
   "id": "62945e54",
   "metadata": {},
   "outputs": [],
   "source": [
    "etl(db_engine)"
   ]
  },
  {
   "cell_type": "markdown",
   "id": "6858f20b",
   "metadata": {},
   "source": [
    "## Assignment"
   ]
  },
  {
   "cell_type": "markdown",
   "id": "6c286c00",
   "metadata": {},
   "source": [
    "1. Recommend courses based on programming_language.\n",
    "   - Build a logic and create flolwchart of it.\n",
    "   - Write the code for it in python/sql."
   ]
  },
  {
   "cell_type": "code",
   "execution_count": null,
   "id": "249fe6d5",
   "metadata": {},
   "outputs": [],
   "source": []
  }
 ],
 "metadata": {
  "kernelspec": {
   "display_name": "Python 3 (ipykernel)",
   "language": "python",
   "name": "python3"
  },
  "language_info": {
   "codemirror_mode": {
    "name": "ipython",
    "version": 3
   },
   "file_extension": ".py",
   "mimetype": "text/x-python",
   "name": "python",
   "nbconvert_exporter": "python",
   "pygments_lexer": "ipython3",
   "version": "3.11.2"
  }
 },
 "nbformat": 4,
 "nbformat_minor": 5
}
