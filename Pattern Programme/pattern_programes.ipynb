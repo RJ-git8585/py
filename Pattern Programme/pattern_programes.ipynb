{
  "nbformat": 4,
  "nbformat_minor": 0,
  "metadata": {
    "colab": {
      "provenance": []
    },
    "kernelspec": {
      "name": "python3",
      "display_name": "Python 3"
    },
    "language_info": {
      "name": "python"
    }
  },
  "cells": [
    {
      "cell_type": "markdown",
      "source": [
        "# ***ALL PATTERNS PROGRAMME***"
      ],
      "metadata": {
        "id": "hj6iAwUNFjbi"
      }
    },
    {
      "cell_type": "code",
      "execution_count": null,
      "metadata": {
        "colab": {
          "base_uri": "https://localhost:8080/"
        },
        "id": "ApyWRaK9zW87",
        "outputId": "46d832b9-028c-4c86-c6c5-b53c38f83243"
      },
      "outputs": [
        {
          "output_type": "stream",
          "name": "stdout",
          "text": [
            "A\n",
            "BB\n",
            "CCC\n",
            "DDDD\n",
            "EEEEE\n"
          ]
        }
      ],
      "source": [
        "\n",
        "L=[\"A\",\"B\",\"C\",\"D\",\"E\"]\n",
        "for i in range(len(L)):\n",
        "  for j in range(i+1):\n",
        "    print(L[i],end=\"\")\n",
        "  print()\n"
      ]
    },
    {
      "cell_type": "code",
      "source": [
        "\n",
        "L=[\"A\",\"B\",\"C\",\"D\",\"E\"]\n",
        "for i in range(len(L)):\n",
        "  for j in range(i+1):\n",
        "    print(L[j],end=\"\")\n",
        "  print()\n"
      ],
      "metadata": {
        "colab": {
          "base_uri": "https://localhost:8080/"
        },
        "id": "YMHRUoj52MxV",
        "outputId": "1bf8876c-9eb5-4dc3-c866-708d4374c417"
      },
      "execution_count": null,
      "outputs": [
        {
          "output_type": "stream",
          "name": "stdout",
          "text": [
            "A\n",
            "AB\n",
            "ABC\n",
            "ABCD\n",
            "ABCDE\n"
          ]
        }
      ]
    },
    {
      "cell_type": "code",
      "source": [
        "\n",
        "L=[\"A\",\"B\",\"C\",\"D\",\"E\"]\n",
        "for i in range(len(L)):\n",
        "  for j in range(i,len(L)):\n",
        "    print(L[j],end=\"\")\n",
        "  print()"
      ],
      "metadata": {
        "colab": {
          "base_uri": "https://localhost:8080/"
        },
        "id": "pyv4VvXv2Xnz",
        "outputId": "7b96dd42-17c2-4346-c499-a2caf73ef791"
      },
      "execution_count": null,
      "outputs": [
        {
          "output_type": "stream",
          "name": "stdout",
          "text": [
            "ABCDE\n",
            "BCDE\n",
            "CDE\n",
            "DE\n",
            "E\n"
          ]
        }
      ]
    },
    {
      "cell_type": "code",
      "source": [
        "\n",
        "L=[\"A\",\"B\",\"C\",\"D\",\"E\"]\n",
        "for i in range(len(L)):\n",
        "  for j in range(i,len(L)):\n",
        "    print(L[i],end=\"\")\n",
        "  print()"
      ],
      "metadata": {
        "colab": {
          "base_uri": "https://localhost:8080/"
        },
        "id": "A7b-RzDP20SP",
        "outputId": "24faedaf-9cd0-4235-b3ef-b279d6526d22"
      },
      "execution_count": null,
      "outputs": [
        {
          "output_type": "stream",
          "name": "stdout",
          "text": [
            "AAAAA\n",
            "BBBB\n",
            "CCC\n",
            "DD\n",
            "E\n"
          ]
        }
      ]
    },
    {
      "cell_type": "code",
      "source": [
        "\n",
        "L=[\"A\",\"B\",\"C\",\"D\",\"E\"]\n",
        "for i in range(len(L)):\n",
        "  for k in range(i,len(L)):\n",
        "    print(\"\",end=\" \")\n",
        "  for j in range(i+1):\n",
        "    print(L[j],end =\" \")\n",
        "  print()"
      ],
      "metadata": {
        "colab": {
          "base_uri": "https://localhost:8080/"
        },
        "id": "HK3xn1zM3Crm",
        "outputId": "56a13b92-d7f8-438d-a385-be343f2f4f30"
      },
      "execution_count": null,
      "outputs": [
        {
          "output_type": "stream",
          "name": "stdout",
          "text": [
            "     A \n",
            "    A B \n",
            "   A B C \n",
            "  A B C D \n",
            " A B C D E \n"
          ]
        }
      ]
    },
    {
      "cell_type": "code",
      "source": [
        "\n",
        "L=[\"A\",\"B\",\"C\",\"D\",\"E\"]\n",
        "for i in range(len(L)):\n",
        "  for k in range(i,len(L)):\n",
        "    print(\"\",end=\" \")\n",
        "  for j in range(i+1):\n",
        "    print(L[i],end =\" \")\n",
        "  print()"
      ],
      "metadata": {
        "colab": {
          "base_uri": "https://localhost:8080/"
        },
        "id": "4RNPtTzW4fbl",
        "outputId": "2cf1bb5c-1165-4506-accb-0557c605ce32"
      },
      "execution_count": null,
      "outputs": [
        {
          "output_type": "stream",
          "name": "stdout",
          "text": [
            "     A \n",
            "    B B \n",
            "   C C C \n",
            "  D D D D \n",
            " E E E E E \n"
          ]
        }
      ]
    },
    {
      "cell_type": "code",
      "source": [
        "\n",
        "L=[\"A\",\"B\",\"C\",\"D\",\"E\"]\n",
        "for i in range(len(L)):\n",
        "  for k in range(i):\n",
        "    print(\"\",end=\" \")\n",
        "  for j in range(i,len(L)):\n",
        "    print(L[i],end =\" \")\n",
        "  print()"
      ],
      "metadata": {
        "colab": {
          "base_uri": "https://localhost:8080/"
        },
        "id": "LQiyb6sK4uqO",
        "outputId": "bdb50fa9-dbd7-4f37-ca02-1be8b141fa62"
      },
      "execution_count": null,
      "outputs": [
        {
          "output_type": "stream",
          "name": "stdout",
          "text": [
            "A A A A A \n",
            " B B B B \n",
            "  C C C \n",
            "   D D \n",
            "    E \n"
          ]
        }
      ]
    },
    {
      "cell_type": "code",
      "source": [
        "\n",
        "L=[\"A\",\"B\",\"C\",\"D\",\"E\"]\n",
        "for i in range(len(L)):\n",
        "  for k in range(i):\n",
        "    print(end=\" \")\n",
        "  for j in range(i,len(L)):\n",
        "    print(L[j],end =\" \")\n",
        "  print()"
      ],
      "metadata": {
        "colab": {
          "base_uri": "https://localhost:8080/"
        },
        "id": "GeTIqv_P5JL5",
        "outputId": "336ae6e6-e6c8-4ca6-ad99-ce711d18e36c"
      },
      "execution_count": null,
      "outputs": [
        {
          "output_type": "stream",
          "name": "stdout",
          "text": [
            "A B C D E \n",
            " B C D E \n",
            "  C D E \n",
            "   D E \n",
            "    E \n"
          ]
        }
      ]
    },
    {
      "cell_type": "code",
      "source": [
        "\n",
        "L=[\"A\",\"B\",\"C\",\"D\",\"E\"]\n",
        "for i in range(len(L)):\n",
        "  for k in range(i,len(L)):\n",
        "    print(\"\",end=\" \")\n",
        "  for j in range(i+1):\n",
        "    print(L[j],end =\" \")\n",
        "  print()\n",
        "for i in range(len(L)):\n",
        "  for k in range(i+1):\n",
        "    print(\"\",end=\" \")\n",
        "  for j in range(i,len(L)):\n",
        "    print(L[j],end =\" \")\n",
        "  print()\n",
        "\n",
        "  "
      ],
      "metadata": {
        "colab": {
          "base_uri": "https://localhost:8080/"
        },
        "id": "F2GWrFYA5ZgQ",
        "outputId": "4b10b93d-8187-4fc2-b50d-8504c3143698"
      },
      "execution_count": null,
      "outputs": [
        {
          "output_type": "stream",
          "name": "stdout",
          "text": [
            "     A \n",
            "    A B \n",
            "   A B C \n",
            "  A B C D \n",
            " A B C D E \n",
            " A B C D E \n",
            "  B C D E \n",
            "   C D E \n",
            "    D E \n",
            "     E \n"
          ]
        }
      ]
    },
    {
      "cell_type": "code",
      "source": [
        "L=[\"A\",\"B\",\"C\",\"D\",\"E\"]\n",
        "for i in range(len(L)):\n",
        "  for k in range(i,len(L)):\n",
        "    print(\"\",end=\" \")\n",
        "  for j in range(i+1):\n",
        "    print(L[i],end =\" \")\n",
        "  print()\n",
        "for i in range(len(L)):\n",
        "  for k in range(i+1):\n",
        "    print(\"\",end=\" \")\n",
        "  for j in range(i,len(L)):\n",
        "    print(L[-i],end =\" \")\n",
        "  print()"
      ],
      "metadata": {
        "colab": {
          "base_uri": "https://localhost:8080/"
        },
        "id": "RpPH9ZLYBJPd",
        "outputId": "70794fd6-8417-43c5-ac6d-e9049bab57f3"
      },
      "execution_count": null,
      "outputs": [
        {
          "output_type": "stream",
          "name": "stdout",
          "text": [
            "     A \n",
            "    B B \n",
            "   C C C \n",
            "  D D D D \n",
            " E E E E E \n",
            " A A A A A \n",
            "  E E E E \n",
            "   D D D \n",
            "    C C \n",
            "     B \n"
          ]
        }
      ]
    },
    {
      "cell_type": "code",
      "source": [
        "for i in range(6):\n",
        "  for j in range(i,6):\n",
        "    print(end=\" \")\n",
        "  for k in range(i+1):\n",
        "    print(\"*\",end=\" \")\n",
        "  print()"
      ],
      "metadata": {
        "colab": {
          "base_uri": "https://localhost:8080/"
        },
        "id": "ao4RtXjVDWjt",
        "outputId": "1a4936ae-3fa7-4378-c222-069a5df4d2b0"
      },
      "execution_count": null,
      "outputs": [
        {
          "output_type": "stream",
          "name": "stdout",
          "text": [
            "      * \n",
            "     * * \n",
            "    * * * \n",
            "   * * * * \n",
            "  * * * * * \n",
            " * * * * * * \n"
          ]
        }
      ]
    },
    {
      "cell_type": "code",
      "source": [
        "\n",
        "for i in range(6):\n",
        "  for k in range(i,6):\n",
        "    print(\"\",end=\" \")\n",
        "  for j in range(i+1):\n",
        "    print(\"*\",end =\" \")\n",
        "  print()\n",
        "for i in range(6):\n",
        "  for k in range(i+1):\n",
        "    print(\"\",end=\" \")\n",
        "  for j in range(i,6):\n",
        "    print(\"*\",end =\" \")\n",
        "  print()"
      ],
      "metadata": {
        "colab": {
          "base_uri": "https://localhost:8080/"
        },
        "id": "keGWFH_E-4uo",
        "outputId": "5016e0ff-7c7c-4138-fe6c-64fb1261e59c"
      },
      "execution_count": null,
      "outputs": [
        {
          "output_type": "stream",
          "name": "stdout",
          "text": [
            "      * \n",
            "     * * \n",
            "    * * * \n",
            "   * * * * \n",
            "  * * * * * \n",
            " * * * * * * \n",
            " * * * * * * \n",
            "  * * * * * \n",
            "   * * * * \n",
            "    * * * \n",
            "     * * \n",
            "      * \n"
          ]
        }
      ]
    },
    {
      "cell_type": "markdown",
      "source": [
        "# **With the help of ASC Code**"
      ],
      "metadata": {
        "id": "oImPUWm3Ma7r"
      }
    },
    {
      "cell_type": "code",
      "source": [
        "for i in range(65,70):\n",
        "  for j in range(65,i+1):\n",
        "   print(chr(j),end=\"\")\n",
        "  print()\n",
        " "
      ],
      "metadata": {
        "colab": {
          "base_uri": "https://localhost:8080/"
        },
        "id": "i_zaOeBgGLQZ",
        "outputId": "a0e42e2b-8f4a-45a5-c567-6a2a56c59d06"
      },
      "execution_count": null,
      "outputs": [
        {
          "output_type": "stream",
          "name": "stdout",
          "text": [
            "A\n",
            "AB\n",
            "ABC\n",
            "ABCD\n",
            "ABCDE\n"
          ]
        }
      ]
    },
    {
      "cell_type": "code",
      "source": [
        "for i in range(65,70):\n",
        "  for j in range(i,70):\n",
        "   print(chr(j),end=\"\")\n",
        "  print()"
      ],
      "metadata": {
        "colab": {
          "base_uri": "https://localhost:8080/"
        },
        "id": "ffHgORCVMuWe",
        "outputId": "bf3a0bdf-e565-45fc-dc97-0f3ccf301f7a"
      },
      "execution_count": null,
      "outputs": [
        {
          "output_type": "stream",
          "name": "stdout",
          "text": [
            "ABCDE\n",
            "BCDE\n",
            "CDE\n",
            "DE\n",
            "E\n"
          ]
        }
      ]
    },
    {
      "cell_type": "code",
      "source": [
        "for i in range(65,70):\n",
        "  for j in range(i,70):\n",
        "    print(end=\" \")\n",
        "  for k in range(65,i+1):\n",
        "    print(chr(i),end=\" \")\n",
        "  print()"
      ],
      "metadata": {
        "colab": {
          "base_uri": "https://localhost:8080/"
        },
        "id": "1-F582BDM21s",
        "outputId": "5e4f4139-a291-440a-bfa3-84b71e1cbba3"
      },
      "execution_count": null,
      "outputs": [
        {
          "output_type": "stream",
          "name": "stdout",
          "text": [
            "     A \n",
            "    B B \n",
            "   C C C \n",
            "  D D D D \n",
            " E E E E E \n"
          ]
        }
      ]
    },
    {
      "cell_type": "code",
      "source": [
        "for i in range(65,70):\n",
        "  for j in range(i,70):\n",
        "    print(end=\" \")\n",
        "  for k in range(65,i+1):\n",
        "    print(chr(k),end=\" \")\n",
        "  print()"
      ],
      "metadata": {
        "colab": {
          "base_uri": "https://localhost:8080/"
        },
        "id": "Fgx5_ibqNcLX",
        "outputId": "cc23c1e5-78cc-46db-c4d0-1081ab418cb6"
      },
      "execution_count": null,
      "outputs": [
        {
          "output_type": "stream",
          "name": "stdout",
          "text": [
            "     A \n",
            "    A B \n",
            "   A B C \n",
            "  A B C D \n",
            " A B C D E \n"
          ]
        }
      ]
    },
    {
      "cell_type": "code",
      "source": [
        "for i in range(65,70):\n",
        "  for j in range(65,i+1):\n",
        "    print(end=\" \")\n",
        "  for k in range(i,70):\n",
        "    print(chr(i),end=\" \")\n",
        "  print()"
      ],
      "metadata": {
        "colab": {
          "base_uri": "https://localhost:8080/"
        },
        "id": "RXJ2HqDpNnMr",
        "outputId": "d4bfc137-30a0-414e-aa40-c0e870fd3ae8"
      },
      "execution_count": null,
      "outputs": [
        {
          "output_type": "stream",
          "name": "stdout",
          "text": [
            " A A A A A \n",
            "  B B B B \n",
            "   C C C \n",
            "    D D \n",
            "     E \n"
          ]
        }
      ]
    },
    {
      "cell_type": "code",
      "source": [
        "for i in range(65,70):\n",
        "  for j in range(65,i+1):\n",
        "    print(end=\" \")\n",
        "  for k in range(i,70):\n",
        "    print(chr(k),end=\" \")\n",
        "  print()"
      ],
      "metadata": {
        "colab": {
          "base_uri": "https://localhost:8080/"
        },
        "id": "eoAd85v_N5Vm",
        "outputId": "5907c77c-7da6-4f90-ebf6-0e044e61ea4f"
      },
      "execution_count": null,
      "outputs": [
        {
          "output_type": "stream",
          "name": "stdout",
          "text": [
            " A B C D E \n",
            "  B C D E \n",
            "   C D E \n",
            "    D E \n",
            "     E \n"
          ]
        }
      ]
    },
    {
      "cell_type": "code",
      "source": [
        "for i in range(65,70):\n",
        "  for j in range(i,70):\n",
        "    print(end=\" \")\n",
        "  for k in range(65,i+1):\n",
        "    print(chr(k),end=\" \")\n",
        "  print()\n",
        "\n",
        "for i in range(65,70):\n",
        "  for j in range(65,i+1):\n",
        "    print(end=\" \")\n",
        "  for k in range(i,70):\n",
        "    print(chr(k),end=\" \")\n",
        "  print()"
      ],
      "metadata": {
        "colab": {
          "base_uri": "https://localhost:8080/"
        },
        "id": "wEKhVZ6KN-4Q",
        "outputId": "f7a4a9bf-00f2-4feb-f00c-60f6ad7f63f8"
      },
      "execution_count": null,
      "outputs": [
        {
          "output_type": "stream",
          "name": "stdout",
          "text": [
            "     A \n",
            "    A B \n",
            "   A B C \n",
            "  A B C D \n",
            " A B C D E \n",
            " A B C D E \n",
            "  B C D E \n",
            "   C D E \n",
            "    D E \n",
            "     E \n"
          ]
        }
      ]
    },
    {
      "cell_type": "code",
      "source": [],
      "metadata": {
        "id": "jyPh57KPQOn7"
      },
      "execution_count": null,
      "outputs": []
    }
  ]
}